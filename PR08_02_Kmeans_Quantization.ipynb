{
  "nbformat": 4,
  "nbformat_minor": 0,
  "metadata": {
    "colab": {
      "provenance": [],
      "authorship_tag": "ABX9TyOrG+d8H2n33IU7L8w3TGpG",
      "include_colab_link": true
    },
    "kernelspec": {
      "name": "python3",
      "display_name": "Python 3"
    },
    "language_info": {
      "name": "python"
    }
  },
  "cells": [
    {
      "cell_type": "markdown",
      "metadata": {
        "id": "view-in-github",
        "colab_type": "text"
      },
      "source": [
        "<a href=\"https://colab.research.google.com/github/Dr-Carlos-Villasenor/PatternRecognition/blob/main/PR08_02_Kmeans_Quantization.ipynb\" target=\"_parent\"><img src=\"https://colab.research.google.com/assets/colab-badge.svg\" alt=\"Open In Colab\"/></a>"
      ]
    },
    {
      "cell_type": "markdown",
      "source": [
        "# Reconocimeinto de Patrones\n",
        "## Dr. Carlos Vilaseñor\n",
        "## Cuantización de imagenes con Kmeans\n",
        "\n"
      ],
      "metadata": {
        "id": "mAvFm5jSTmBJ"
      }
    },
    {
      "cell_type": "markdown",
      "source": [
        "1. Importamos las bibliotecas necesarias"
      ],
      "metadata": {
        "id": "qMF9MDnkYbT4"
      }
    },
    {
      "cell_type": "code",
      "source": [
        "import numpy as np\n",
        "import matplotlib.pyplot as plt\n",
        "import matplotlib.image as mpimg\n",
        "from sklearn.cluster import KMeans\n",
        "from sklearn.utils import shuffle\n",
        "from google.colab import files"
      ],
      "metadata": {
        "id": "ORcykQntYa5F"
      },
      "execution_count": 2,
      "outputs": []
    },
    {
      "cell_type": "markdown",
      "source": [
        "2. Cargamos el conjunto de datos"
      ],
      "metadata": {
        "id": "zLW9AHg4a6aZ"
      }
    },
    {
      "cell_type": "code",
      "source": [
        "!wget https://raw.githubusercontent.com/Dr-Carlos-Villasenor/PatternRecognition/main/Dataset/paisaje.jpg"
      ],
      "metadata": {
        "id": "TGrwTT6PbG5g"
      },
      "execution_count": null,
      "outputs": []
    },
    {
      "cell_type": "code",
      "source": [
        "img = mpimg.imread('paisaje.jpg')\n",
        "img = np.array(img, dtype=np.float64) / 255"
      ],
      "metadata": {
        "id": "6WJHRWnKbBGf"
      },
      "execution_count": 14,
      "outputs": []
    },
    {
      "cell_type": "code",
      "source": [
        "w, h, d = img.shape\n",
        "n_classes = 8"
      ],
      "metadata": {
        "id": "EogKjhapoZBF"
      },
      "execution_count": 47,
      "outputs": []
    },
    {
      "cell_type": "code",
      "source": [
        "img_array = np.reshape(img, (w * h, d))"
      ],
      "metadata": {
        "id": "4hXe0wUhoa5Q"
      },
      "execution_count": 48,
      "outputs": []
    },
    {
      "cell_type": "code",
      "source": [
        "X = shuffle(img_array, random_state=0)[:1000]\n",
        "kmeans = KMeans(n_clusters = n_classes, random_state = 0)\n",
        "kmeans.fit(X)\n",
        "labels = kmeans.predict(img_array)"
      ],
      "metadata": {
        "id": "h5eB2zQyocOo"
      },
      "execution_count": null,
      "outputs": []
    },
    {
      "cell_type": "code",
      "source": [
        "C = kmeans.cluster_centers_\n",
        "print('Centroides: \\n', C)"
      ],
      "metadata": {
        "id": "-Uw3-X4BofKR"
      },
      "execution_count": null,
      "outputs": []
    },
    {
      "cell_type": "code",
      "source": [
        "fig = plt.figure()\n",
        "ax = fig.add_subplot(111, projection='3d')\n",
        "ax.scatter(X[:,0], X[:,1],  X[:,2],c=X)\n",
        "fig = plt.figure()\n",
        "ax = fig.add_subplot(111, projection='3d')\n",
        "ax.scatter(X[:,0], X[:,1],X[:,2],c=kmeans.predict(X))\n",
        "ax.plot3D(C[:,0], C[:,1],C[:,2], '+r', linewidth=20)"
      ],
      "metadata": {
        "id": "9QdnfcFZpUH6"
      },
      "execution_count": null,
      "outputs": []
    },
    {
      "cell_type": "code",
      "source": [
        "img_labels = np.reshape(labels, (w,h))\n",
        "img_out = np.zeros((w, h, d))\n",
        "label_idx = 0\n",
        "for i in range(w):\n",
        "  for j in range(h):\n",
        "    img_out[i][j][0] = kmeans.cluster_centers_[img_labels[i][j]][0]\n",
        "    img_out[i][j][1] = kmeans.cluster_centers_[img_labels[i][j]][1]\n",
        "    img_out[i][j][2] = kmeans.cluster_centers_[img_labels[i][j]][2]"
      ],
      "metadata": {
        "id": "R52C3SCsod2w"
      },
      "execution_count": 52,
      "outputs": []
    },
    {
      "cell_type": "code",
      "source": [
        "# Display all results, alongside original image\n",
        "plt.title('Original image')\n",
        "plt.imshow(img)"
      ],
      "metadata": {
        "id": "hqCxj87sog5u"
      },
      "execution_count": null,
      "outputs": []
    },
    {
      "cell_type": "code",
      "source": [
        "plt.title('Quantized image with K-Means')\n",
        "plt.imshow(img_out)"
      ],
      "metadata": {
        "id": "OWSn6Ru8ovjZ"
      },
      "execution_count": null,
      "outputs": []
    }
  ]
}