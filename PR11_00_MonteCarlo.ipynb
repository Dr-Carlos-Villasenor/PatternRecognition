{
  "cells": [
    {
      "cell_type": "markdown",
      "metadata": {
        "id": "view-in-github",
        "colab_type": "text"
      },
      "source": [
        "<a href=\"https://colab.research.google.com/github/Dr-Carlos-Villasenor/PatternRecognition/blob/main/PR11_00_MonteCarlo.ipynb\" target=\"_parent\"><img src=\"https://colab.research.google.com/assets/colab-badge.svg\" alt=\"Open In Colab\"/></a>"
      ]
    },
    {
      "cell_type": "code",
      "execution_count": null,
      "metadata": {
        "id": "MZDLne8rMsK3"
      },
      "outputs": [],
      "source": [
        "import numpy as np\n",
        "import matplotlib.pyplot as plt"
      ]
    },
    {
      "cell_type": "markdown",
      "metadata": {
        "id": "1-9C_PEjP8-U"
      },
      "source": [
        "# Area de un círculo de radio 1"
      ]
    },
    {
      "cell_type": "code",
      "execution_count": null,
      "metadata": {
        "id": "0zeyO771KwTs"
      },
      "outputs": [],
      "source": [
        "N = 10000\n",
        "\n",
        "plt.figure(figsize=(9,9))\n",
        "count = 0\n",
        "for i in range(N):\n",
        "  point = -1 + 2*np.random.rand(2)\n",
        "  magnitude = np.linalg.norm(point,2)\n",
        "\n",
        "  if magnitude <= 1:\n",
        "    count += 1\n",
        "    plt.plot(point[0], point[1], '.b')\n",
        "  else:\n",
        "    plt.plot(point[0], point[1], '.r')\n",
        "\n",
        "print('Circle area: ', (2*2)*(count/N))\n",
        "\n",
        "plt.xlim([-1,1])\n",
        "plt.ylim([-1,1])\n",
        "plt.axis('equal')\n",
        "plt.title('Monte Carlo simulation')"
      ]
    },
    {
      "cell_type": "markdown",
      "metadata": {
        "id": "J144vs1lQBx5"
      },
      "source": [
        "# Probabilidad de que un dado salga con cara impar"
      ]
    },
    {
      "cell_type": "code",
      "execution_count": null,
      "metadata": {
        "id": "KbIl_PI-QIU5"
      },
      "outputs": [],
      "source": [
        "N = 10000\n",
        "count = 0\n",
        "for i in range(N):\n",
        "  dice = np.random.randint(1,7)\n",
        "  if ((dice == 1) or (dice==3)) or (dice==5):\n",
        "    count += 1\n",
        "\n",
        "print('Probabilidad de que sea impar: ', (count/N))"
      ]
    }
  ],
  "metadata": {
    "colab": {
      "provenance": [],
      "authorship_tag": "ABX9TyOLbnMIggIZjoVdXjhE3eTx",
      "include_colab_link": true
    },
    "kernelspec": {
      "display_name": "Python 3",
      "name": "python3"
    },
    "language_info": {
      "name": "python"
    }
  },
  "nbformat": 4,
  "nbformat_minor": 0
}