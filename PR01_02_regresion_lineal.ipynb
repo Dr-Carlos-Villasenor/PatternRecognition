{
  "nbformat": 4,
  "nbformat_minor": 0,
  "metadata": {
    "colab": {
      "provenance": [],
      "authorship_tag": "ABX9TyOw19h78KrGOe/p/fZgvYjQ",
      "include_colab_link": true
    },
    "kernelspec": {
      "name": "python3",
      "display_name": "Python 3"
    },
    "language_info": {
      "name": "python"
    }
  },
  "cells": [
    {
      "cell_type": "markdown",
      "metadata": {
        "id": "view-in-github",
        "colab_type": "text"
      },
      "source": [
        "<a href=\"https://colab.research.google.com/github/Dr-Carlos-Villasenor/PatternRecognition/blob/main/PR01_02_regresion_lineal.ipynb\" target=\"_parent\"><img src=\"https://colab.research.google.com/assets/colab-badge.svg\" alt=\"Open In Colab\"/></a>"
      ]
    },
    {
      "cell_type": "markdown",
      "source": [
        "# Reconocimeinto de Patrones\n",
        "## Dr. Carlos Vilaseñor\n",
        "## Método directo"
      ],
      "metadata": {
        "id": "j4e3Inlx7xNX"
      }
    },
    {
      "cell_type": "markdown",
      "source": [
        "Primero vamos a crear un conjunto de datos para una regresión lineal simple"
      ],
      "metadata": {
        "id": "PGFcjDHz8CRM"
      }
    },
    {
      "cell_type": "code",
      "source": [
        "import numpy as np\n",
        "import matplotlib.pyplot as plt"
      ],
      "metadata": {
        "id": "jXN1lvBT8NCI"
      },
      "execution_count": 4,
      "outputs": []
    },
    {
      "cell_type": "code",
      "execution_count": null,
      "metadata": {
        "id": "KQIcAV1u7nqy"
      },
      "outputs": [],
      "source": [
        "p = 100\n",
        "ruido = 3\n",
        "x = -1 + 2 * np.random.rand(p).reshape(1,-1)\n",
        "Y = -18 * x + 6 + ruido * np.random.randn(p)\n",
        "plt.plot(x, Y,'.b')\n",
        "plt.show()"
      ]
    },
    {
      "cell_type": "markdown",
      "source": [
        "Hacemos una regresión lineal"
      ],
      "metadata": {
        "id": "pAI2E92q8hlm"
      }
    },
    {
      "cell_type": "code",
      "source": [
        "X = np.concatenate((np.ones((1,p)), x), axis=0)\n",
        "theta = np.dot(Y.reshape(1,-1), np.linalg.pinv(X))\n",
        "print(theta)"
      ],
      "metadata": {
        "id": "8_IWCNKs8kdH"
      },
      "execution_count": null,
      "outputs": []
    },
    {
      "cell_type": "markdown",
      "source": [
        "Dibujamos la linea de regresión"
      ],
      "metadata": {
        "id": "93jha6II86Hm"
      }
    },
    {
      "cell_type": "code",
      "source": [
        "Xnew = np.array([[1,  1],\n",
        "                 [-1, 1]])\n",
        "Ynew = theta @ Xnew\n",
        "\n",
        "plt.figure()\n",
        "plt.plot(x, Y,'.b')\n",
        "plt.plot(Xnew[1,:].ravel(), Ynew.ravel(), '--r')\n",
        "plt.show()"
      ],
      "metadata": {
        "id": "VEA0NBq988TL"
      },
      "execution_count": null,
      "outputs": []
    }
  ]
}