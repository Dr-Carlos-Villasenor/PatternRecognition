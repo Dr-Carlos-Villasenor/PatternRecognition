{
  "nbformat": 4,
  "nbformat_minor": 0,
  "metadata": {
    "colab": {
      "provenance": [],
      "authorship_tag": "ABX9TyPqknCfWgc3MYLXwTWEFoTR",
      "include_colab_link": true
    },
    "kernelspec": {
      "name": "python3",
      "display_name": "Python 3"
    },
    "language_info": {
      "name": "python"
    }
  },
  "cells": [
    {
      "cell_type": "markdown",
      "metadata": {
        "id": "view-in-github",
        "colab_type": "text"
      },
      "source": [
        "<a href=\"https://colab.research.google.com/github/Dr-Carlos-Villasenor/PatternRecognition/blob/main/PR07_03_Metodos_ensamble.ipynb\" target=\"_parent\"><img src=\"https://colab.research.google.com/assets/colab-badge.svg\" alt=\"Open In Colab\"/></a>"
      ]
    },
    {
      "cell_type": "markdown",
      "source": [
        "# Reconocimeinto de Patrones\n",
        "## Dr. Carlos Vilaseñor\n",
        "## Métodos de ensamble"
      ],
      "metadata": {
        "id": "mAvFm5jSTmBJ"
      }
    },
    {
      "cell_type": "code",
      "source": [
        "import numpy as np\n",
        "import pandas as pd\n",
        "from sklearn.model_selection import train_test_split\n",
        "from sklearn.tree import DecisionTreeClassifier\n",
        "from sklearn.ensemble import RandomForestClassifier, BaggingClassifier\n",
        "from sklearn.ensemble import AdaBoostClassifier, VotingClassifier\n",
        "from sklearn.linear_model import LogisticRegression\n",
        "from sklearn.svm import SVC"
      ],
      "metadata": {
        "id": "OT-hAR1x5cQq"
      },
      "execution_count": 18,
      "outputs": []
    },
    {
      "cell_type": "code",
      "source": [
        "!wget https://raw.githubusercontent.com/Dr-Carlos-Villasenor/PatternRecognition/main/Dataset/diabetes.csv"
      ],
      "metadata": {
        "id": "_a6ueFtd5ePN"
      },
      "execution_count": null,
      "outputs": []
    },
    {
      "cell_type": "code",
      "source": [
        "# Leer datos\n",
        "data = pd.read_csv('diabetes.csv')\n",
        "\n",
        "# Selección de variables\n",
        "x = np.asanyarray(data.iloc[:,:-1])\n",
        "y = np.asanyarray(data.iloc[:,-1])\n",
        "\n",
        "# Separación de entrenamiento y prueba\n",
        "xtrain, xtest, ytrain, ytest = train_test_split(x, y, random_state=0)"
      ],
      "metadata": {
        "id": "kmizKP7354Az"
      },
      "execution_count": 3,
      "outputs": []
    },
    {
      "cell_type": "markdown",
      "source": [
        "# Árbol de decisión"
      ],
      "metadata": {
        "id": "sHhMy0Va5v_g"
      }
    },
    {
      "cell_type": "code",
      "source": [
        "dt = DecisionTreeClassifier()\n",
        "dt.fit(xtrain,ytrain)\n",
        "\n",
        "print('Train: ', dt.score(xtrain,ytrain))\n",
        "print('Test: ', dt.score(xtest,ytest))"
      ],
      "metadata": {
        "id": "my4SMDkJ6DIK"
      },
      "execution_count": null,
      "outputs": []
    },
    {
      "cell_type": "markdown",
      "source": [
        "# Random Forest"
      ],
      "metadata": {
        "id": "CCZc3_JY6Ijg"
      }
    },
    {
      "cell_type": "code",
      "source": [
        "rf = RandomForestClassifier(n_estimators=100)\n",
        "rf.fit(xtrain,ytrain)\n",
        "\n",
        "print('Train: ', rf.score(xtrain,ytrain))\n",
        "print('Test: ', rf.score(xtest,ytest))"
      ],
      "metadata": {
        "id": "6lC9r0a76KH3"
      },
      "execution_count": null,
      "outputs": []
    },
    {
      "cell_type": "markdown",
      "source": [
        "# Bagging"
      ],
      "metadata": {
        "id": "HUQ4fJr26PhD"
      }
    },
    {
      "cell_type": "code",
      "source": [
        "bg = BaggingClassifier(DecisionTreeClassifier(), max_samples= 0.5,\n",
        "                       max_features = 1.0, n_estimators = 100)\n",
        "bg.fit(xtrain,ytrain)\n",
        "\n",
        "print('Train: ', bg.score(xtrain,ytrain))\n",
        "print('Test: ', bg.score(xtest,ytest))"
      ],
      "metadata": {
        "id": "x7aCKZ286RFl"
      },
      "execution_count": null,
      "outputs": []
    },
    {
      "cell_type": "markdown",
      "source": [
        "# Boosting"
      ],
      "metadata": {
        "id": "DgzN4kD76ZmM"
      }
    },
    {
      "cell_type": "code",
      "source": [
        "adb = AdaBoostClassifier(LogisticRegression(), n_estimators = 1,\n",
        "                         learning_rate = 1)\n",
        "adb.fit(xtrain,ytrain)\n",
        "\n",
        "print('Train: ', adb.score(xtrain,ytrain))\n",
        "print('Test: ', adb.score(xtest,ytest))"
      ],
      "metadata": {
        "id": "2BpAskEb6YOd"
      },
      "execution_count": null,
      "outputs": []
    },
    {
      "cell_type": "markdown",
      "source": [
        "# Voting"
      ],
      "metadata": {
        "id": "cJOoiPvg60vF"
      }
    },
    {
      "cell_type": "code",
      "source": [
        "lr = LogisticRegression(solver='lbfgs', max_iter=500)\n",
        "dt = DecisionTreeClassifier()\n",
        "svm = SVC(kernel = 'rbf', gamma='scale')\n",
        "\n",
        "evc = VotingClassifier( estimators= [('lr',lr),('dt',dt),('svm',svm)],\n",
        "                       voting = 'hard')\n",
        "evc.fit(xtrain, ytrain)\n",
        "\n",
        "print('Train: ', evc.score(xtrain,ytrain))\n",
        "print('Test: ', evc.score(xtest,ytest))"
      ],
      "metadata": {
        "id": "lD2-iOXp63aS"
      },
      "execution_count": null,
      "outputs": []
    }
  ]
}