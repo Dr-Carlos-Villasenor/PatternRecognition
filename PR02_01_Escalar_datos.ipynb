{
  "nbformat": 4,
  "nbformat_minor": 0,
  "metadata": {
    "colab": {
      "provenance": [],
      "authorship_tag": "ABX9TyMy3u3yn0khJ69nwvzEJn3H",
      "include_colab_link": true
    },
    "kernelspec": {
      "name": "python3",
      "display_name": "Python 3"
    },
    "language_info": {
      "name": "python"
    }
  },
  "cells": [
    {
      "cell_type": "markdown",
      "metadata": {
        "id": "view-in-github",
        "colab_type": "text"
      },
      "source": [
        "<a href=\"https://colab.research.google.com/github/Dr-Carlos-Villasenor/PatternRecognition/blob/main/PR02_01_Escalar_datos.ipynb\" target=\"_parent\"><img src=\"https://colab.research.google.com/assets/colab-badge.svg\" alt=\"Open In Colab\"/></a>"
      ]
    },
    {
      "cell_type": "markdown",
      "source": [
        "# Reconocimeinto de Patrones\n",
        "## Dr. Carlos Vilaseñor\n",
        "## Escalar datos estructurados"
      ],
      "metadata": {
        "id": "uhSFgLciP6CB"
      }
    },
    {
      "cell_type": "markdown",
      "source": [
        "#Inicio"
      ],
      "metadata": {
        "id": "IDhffrBNe8De"
      }
    },
    {
      "cell_type": "markdown",
      "source": [
        "1. Importar paquetería"
      ],
      "metadata": {
        "id": "kMdfWChuYY-h"
      }
    },
    {
      "cell_type": "code",
      "execution_count": 85,
      "metadata": {
        "id": "9YIdZ-IrPXT7"
      },
      "outputs": [],
      "source": [
        "import numpy as np\n",
        "import pandas as pd\n",
        "import seaborn as sns\n",
        "import matplotlib.pyplot as plt\n",
        "from sklearn.datasets import make_blobs"
      ]
    },
    {
      "cell_type": "markdown",
      "source": [
        "2. Cargar conjutno de datos"
      ],
      "metadata": {
        "id": "TlbpevSNYbzU"
      }
    },
    {
      "cell_type": "code",
      "source": [
        "# Crear datos sintéticos\n",
        "x, _ = make_blobs(n_samples=200, n_features=2)\n",
        "\n",
        "\n",
        "# Parametros de los gráficos\n",
        "sns.set_style(\"whitegrid\", {'axes.grid' : False})\n",
        "cmap = sns.color_palette(\"viridis\", as_cmap=True)\n",
        "\n",
        "\n",
        "# Dibujar puntos\n",
        "plt.scatter(x[:,0], x[:,1], c=x[:,1], cmap=cmap)\n",
        "plt.axis('equal')\n",
        "plt.grid()\n"
      ],
      "metadata": {
        "id": "Iz248gThaPu-"
      },
      "execution_count": null,
      "outputs": []
    },
    {
      "cell_type": "markdown",
      "source": [
        "# Escaladores"
      ],
      "metadata": {
        "id": "mp8-eBxRe5Oo"
      }
    },
    {
      "cell_type": "markdown",
      "source": [
        "Standard Scaler"
      ],
      "metadata": {
        "id": "S7LDPHfWeyB0"
      }
    },
    {
      "cell_type": "code",
      "source": [
        "from sklearn.preprocessing import StandardScaler\n",
        "\n",
        "scaler = StandardScaler()\n",
        "scaler.fit(x)\n",
        "print('Scaler parameters: ', scaler.mean_, scaler.var_)\n",
        "new_x = scaler.transform(x)\n",
        "plt.scatter(new_x[:,0], new_x[:,1], c=x[:,1], cmap=cmap)\n",
        "plt.title('Standard scaler')\n",
        "plt.axis('equal')\n",
        "plt.grid()\n"
      ],
      "metadata": {
        "id": "HMHQQs_fcPab"
      },
      "execution_count": null,
      "outputs": []
    },
    {
      "cell_type": "code",
      "source": [
        "from sklearn.preprocessing import MinMaxScaler\n",
        "\n",
        "scaler = MinMaxScaler()\n",
        "scaler.fit(x)\n",
        "print('Scaler parameters: ', scaler.data_max_, scaler.data_min_)\n",
        "new_x = scaler.transform(x)\n",
        "plt.scatter(new_x[:,0], new_x[:,1], c=x[:,1], cmap=cmap)\n",
        "plt.title('MinMax scaler')\n",
        "plt.axis('equal')\n",
        "plt.grid()"
      ],
      "metadata": {
        "id": "hCdSdXnldGRO"
      },
      "execution_count": null,
      "outputs": []
    },
    {
      "cell_type": "code",
      "source": [
        "from sklearn.preprocessing import Normalizer\n",
        "\n",
        "scaler = Normalizer(norm='l2')\n",
        "scaler.fit(x)\n",
        "\n",
        "new_x = scaler.transform(x)\n",
        "plt.scatter(new_x[:,0], new_x[:,1], c=x[:,1], cmap=cmap)\n",
        "plt.title('Normalizer L2')\n",
        "plt.axis('equal')\n",
        "plt.grid()"
      ],
      "metadata": {
        "id": "ipv0lWIVdmeP"
      },
      "execution_count": null,
      "outputs": []
    },
    {
      "cell_type": "code",
      "source": [
        "from sklearn.preprocessing import Normalizer\n",
        "\n",
        "scaler = Normalizer(norm='l1')\n",
        "scaler.fit(x)\n",
        "\n",
        "new_x = scaler.transform(x)\n",
        "plt.scatter(new_x[:,0], new_x[:,1], c=x[:,1], cmap=cmap)\n",
        "plt.title('Normalizer L1')\n",
        "plt.axis('equal')\n",
        "plt.grid()"
      ],
      "metadata": {
        "id": "pBkzl_NNd_u3"
      },
      "execution_count": null,
      "outputs": []
    },
    {
      "cell_type": "code",
      "source": [
        "from sklearn.preprocessing import Normalizer\n",
        "\n",
        "scaler = Normalizer(norm='max')\n",
        "scaler.fit(x)\n",
        "\n",
        "new_x = scaler.transform(x)\n",
        "plt.scatter(new_x[:,0], new_x[:,1], c=x[:,1], cmap=cmap)\n",
        "plt.title('Normalizer max')\n",
        "plt.axis('equal')\n",
        "plt.grid()"
      ],
      "metadata": {
        "id": "RHUnEeTPeLG_"
      },
      "execution_count": null,
      "outputs": []
    },
    {
      "cell_type": "markdown",
      "source": [
        "# Codificación"
      ],
      "metadata": {
        "id": "Mqwz__z1fAdS"
      }
    },
    {
      "cell_type": "code",
      "source": [
        "# Label enconding\n",
        "from sklearn.preprocessing import LabelEncoder\n",
        "\n",
        "df = pd.DataFrame({'color': ['red', 'green', 'blue', 'red', 'green']})\n",
        "le = LabelEncoder()\n",
        "df['color_label'] = le.fit_transform(df['color'])\n",
        "\n",
        "print(df)"
      ],
      "metadata": {
        "id": "sRXyFGKEi37H"
      },
      "execution_count": null,
      "outputs": []
    },
    {
      "cell_type": "code",
      "source": [
        "# Ordinal Encoding:\n",
        "df = pd.DataFrame({'quality': ['low', 'medium', 'high', 'medium']})\n",
        "quality_map = {'low': 0, 'medium': 1, 'high': 2}\n",
        "df['quality_map'] = df['quality'].map(quality_map)\n",
        "print(df)"
      ],
      "metadata": {
        "id": "4lJE88TskZ8x"
      },
      "execution_count": null,
      "outputs": []
    },
    {
      "cell_type": "code",
      "source": [
        "# Ordinal encoding witrh sklearn\n",
        "from sklearn.preprocessing import OrdinalEncoder\n",
        "enc = OrdinalEncoder().fit(df)\n",
        "coded = enc.transform(df)\n",
        "print(enc.categories_)\n",
        "print(coded)"
      ],
      "metadata": {
        "id": "AEP-4ktLnOQT"
      },
      "execution_count": null,
      "outputs": []
    },
    {
      "cell_type": "code",
      "source": [
        "# One-Hot Encoding with pandas\n",
        "df = pd.DataFrame({'color': ['red', 'green', 'blue', 'red']})\n",
        "one_hot = pd.get_dummies(df['color'])\n",
        "print(one_hot)"
      ],
      "metadata": {
        "id": "VcoUhACDhSvi"
      },
      "execution_count": null,
      "outputs": []
    },
    {
      "cell_type": "code",
      "source": [
        "# One-Hot Encoding with sklearn\n",
        "from sklearn.preprocessing import OneHotEncoder\n",
        "enc = OneHotEncoder(handle_unknown='ignore')\n",
        "enc.fit(df)\n",
        "print(enc.categories_)\n",
        "enc.transform(df).toarray()"
      ],
      "metadata": {
        "id": "7EMXiJmEk3Nl"
      },
      "execution_count": null,
      "outputs": []
    },
    {
      "cell_type": "code",
      "source": [
        "# Dummy variables\n",
        "data = {'Color': ['Red', 'Green', 'Blue', 'Red', 'Blue']}\n",
        "df = pd.DataFrame(data)\n",
        "dummy_df = pd.get_dummies(df['Color'], drop_first=True, prefix='Color')\n",
        "print(dummy_df)"
      ],
      "metadata": {
        "id": "GmlX9M5Eikb-"
      },
      "execution_count": null,
      "outputs": []
    },
    {
      "cell_type": "code",
      "source": [
        "# Dummy variables with sklearn\n",
        "from sklearn.preprocessing import OneHotEncoder\n",
        "encoder = OneHotEncoder(drop='first').fit(df)\n",
        "dummy = encoder.transform(df)\n",
        "print(encoder.categories_)\n",
        "print(dummy.toarray())"
      ],
      "metadata": {
        "id": "dGQlsFH2l1TE"
      },
      "execution_count": null,
      "outputs": []
    },
    {
      "cell_type": "markdown",
      "source": [
        "# Codificación inversa"
      ],
      "metadata": {
        "id": "n3_LSMjipwJ7"
      }
    },
    {
      "cell_type": "code",
      "source": [
        "encoder.inverse_transform(np.array([[0, 1]]))"
      ],
      "metadata": {
        "id": "mm9Op9xnpkKV"
      },
      "execution_count": null,
      "outputs": []
    },
    {
      "cell_type": "markdown",
      "source": [
        "# Guardar modelos\n",
        "\n"
      ],
      "metadata": {
        "id": "o0BQgkBArKxx"
      }
    },
    {
      "cell_type": "code",
      "source": [
        "import pickle\n",
        "\n",
        "# Guardar modelo\n",
        "pickle.dump(encoder, open('encoder.sav', 'wb'))\n",
        "\n",
        "# borramos el modelo de la RAM\n",
        "del encoder\n"
      ],
      "metadata": {
        "id": "he7HH14xrXYe"
      },
      "execution_count": 93,
      "outputs": []
    },
    {
      "cell_type": "code",
      "source": [
        "enocder"
      ],
      "metadata": {
        "id": "qMvkxfubrqFm"
      },
      "execution_count": null,
      "outputs": []
    },
    {
      "cell_type": "code",
      "source": [
        "encoder = pickle.load(open('encoder.sav', 'rb'))\n",
        "encoder.inverse_transform(np.array([[0, 1]]))"
      ],
      "metadata": {
        "id": "J4Oholf8rrtR"
      },
      "execution_count": null,
      "outputs": []
    }
  ]
}