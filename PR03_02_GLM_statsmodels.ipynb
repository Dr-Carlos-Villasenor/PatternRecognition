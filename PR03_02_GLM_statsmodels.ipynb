{
  "nbformat": 4,
  "nbformat_minor": 0,
  "metadata": {
    "colab": {
      "provenance": [],
      "authorship_tag": "ABX9TyMdpqJKm2zdXf4FhhBBgeiT",
      "include_colab_link": true
    },
    "kernelspec": {
      "name": "python3",
      "display_name": "Python 3"
    },
    "language_info": {
      "name": "python"
    }
  },
  "cells": [
    {
      "cell_type": "markdown",
      "metadata": {
        "id": "view-in-github",
        "colab_type": "text"
      },
      "source": [
        "<a href=\"https://colab.research.google.com/github/Dr-Carlos-Villasenor/PatternRecognition/blob/main/PR03_02_GLM_statsmodels.ipynb\" target=\"_parent\"><img src=\"https://colab.research.google.com/assets/colab-badge.svg\" alt=\"Open In Colab\"/></a>"
      ]
    },
    {
      "cell_type": "markdown",
      "source": [
        "# Reconocimiento de patrones\n",
        "## Dr. Carlos Villaseñor\n",
        "### Modelos Lineales Generalizados con statsmodels\n",
        "\n"
      ],
      "metadata": {
        "id": "Bf7tsymNp16S"
      }
    },
    {
      "cell_type": "markdown",
      "source": [
        "Primeramente instalamos la paquetería"
      ],
      "metadata": {
        "id": "LFhxS5wPp3tW"
      }
    },
    {
      "cell_type": "code",
      "execution_count": null,
      "metadata": {
        "id": "6q-JQd9GpXTg"
      },
      "outputs": [],
      "source": [
        "!pip install statsmodels"
      ]
    },
    {
      "cell_type": "markdown",
      "source": [
        "# Modelo Gamma\n",
        "Ejemplo tomado de  https://www.statsmodels.org/stable/examples/notebooks/generated/glm.html"
      ],
      "metadata": {
        "id": "J0Yo5dbIxYoR"
      }
    },
    {
      "cell_type": "markdown",
      "source": [
        "Importamos paqueterias"
      ],
      "metadata": {
        "id": "-lli_VwYfQA1"
      }
    },
    {
      "cell_type": "code",
      "source": [
        "import numpy as np\n",
        "import statsmodels.api as sm\n",
        "from scipy import stats\n",
        "from matplotlib import pyplot as plt"
      ],
      "metadata": {
        "id": "e_bkoHJ8p_C5"
      },
      "execution_count": 2,
      "outputs": []
    },
    {
      "cell_type": "markdown",
      "source": [
        "Cargamos datos desde la misma API"
      ],
      "metadata": {
        "id": "hY0IckJxfdEK"
      }
    },
    {
      "cell_type": "code",
      "source": [
        "print(sm.datasets.star98.NOTE)"
      ],
      "metadata": {
        "id": "uPSyCU-ffSel"
      },
      "execution_count": null,
      "outputs": []
    },
    {
      "cell_type": "code",
      "source": [
        "data = sm.datasets.star98.load()\n",
        "data.exog = sm.add_constant(data.exog, prepend=False)"
      ],
      "metadata": {
        "id": "OGVT40aJfVK8"
      },
      "execution_count": 4,
      "outputs": []
    },
    {
      "cell_type": "markdown",
      "source": [
        "Variables de entrada"
      ],
      "metadata": {
        "id": "m61SPfDTfsmh"
      }
    },
    {
      "cell_type": "code",
      "source": [
        "data.exog"
      ],
      "metadata": {
        "id": "CyOzdWtafYCy"
      },
      "execution_count": null,
      "outputs": []
    },
    {
      "cell_type": "markdown",
      "source": [
        "Variable de salida"
      ],
      "metadata": {
        "id": "_vHxsr1Efubd"
      }
    },
    {
      "cell_type": "code",
      "source": [
        "print(data.endog)"
      ],
      "metadata": {
        "id": "MuR9NXlGfyUR"
      },
      "execution_count": null,
      "outputs": []
    },
    {
      "cell_type": "markdown",
      "source": [
        "Crear modelo y entrenar"
      ],
      "metadata": {
        "id": "PooZaAlUf3xi"
      }
    },
    {
      "cell_type": "code",
      "source": [
        "glm_binom = sm.GLM(data.endog, data.exog, family=sm.families.Binomial())\n",
        "res = glm_binom.fit()\n",
        "print(res.summary())"
      ],
      "metadata": {
        "id": "32hw4rCQf6Xx"
      },
      "execution_count": null,
      "outputs": []
    },
    {
      "cell_type": "markdown",
      "source": [
        "# Regresión Poisson\n",
        "Ejemplo tomado de https://timeseriesreasoning.com/contents/poisson-regression-model/"
      ],
      "metadata": {
        "id": "WHUZBfxcxdES"
      }
    },
    {
      "cell_type": "code",
      "source": [
        "import pandas as pd\n",
        "from patsy import dmatrices\n",
        "import numpy as np\n",
        "import statsmodels.api as sm\n",
        "import matplotlib.pyplot as plt"
      ],
      "metadata": {
        "id": "rHXq7dvBxl6N"
      },
      "execution_count": 9,
      "outputs": []
    },
    {
      "cell_type": "code",
      "source": [
        "!wget 'https://raw.githubusercontent.com/Dr-Carlos-Villasenor/PatternRecognition/main/Dataset/nyc_bb_bicyclist_counts.csv'"
      ],
      "metadata": {
        "id": "zQDKrraNyKcE"
      },
      "execution_count": null,
      "outputs": []
    },
    {
      "cell_type": "code",
      "source": [
        "df = pd.read_csv('nyc_bb_bicyclist_counts.csv', header=0, infer_datetime_format=True, parse_dates=[0], index_col=[0])"
      ],
      "metadata": {
        "id": "nu_quQxIxpoA"
      },
      "execution_count": 11,
      "outputs": []
    },
    {
      "cell_type": "code",
      "source": [
        "df.head()"
      ],
      "metadata": {
        "id": "XvNIm0BpyRK1"
      },
      "execution_count": null,
      "outputs": []
    },
    {
      "cell_type": "code",
      "source": [
        "ds = df.index.to_series()\n",
        "df['MONTH'] = ds.dt.month\n",
        "df['DAY_OF_WEEK'] = ds.dt.dayofweek\n",
        "df['DAY'] = ds.dt.day"
      ],
      "metadata": {
        "id": "lDfBCa5IxsHW"
      },
      "execution_count": 12,
      "outputs": []
    },
    {
      "cell_type": "code",
      "source": [
        "mask = np.random.rand(len(df)) < 0.8\n",
        "df_train = df[mask]\n",
        "df_test = df[~mask]\n",
        "print('Training data set length='+str(len(df_train)))\n",
        "print('Testing data set length='+str(len(df_test)))"
      ],
      "metadata": {
        "id": "psAKpSmtxtkd"
      },
      "execution_count": null,
      "outputs": []
    },
    {
      "cell_type": "code",
      "source": [
        "expr = \"\"\"BB_COUNT ~ DAY  + DAY_OF_WEEK + MONTH + HIGH_T + LOW_T + PRECIP\"\"\""
      ],
      "metadata": {
        "id": "UXT9UBQcxwNi"
      },
      "execution_count": 15,
      "outputs": []
    },
    {
      "cell_type": "code",
      "source": [
        "ytrain, xtrain = dmatrices(expr, df_train, return_type='dataframe')\n",
        "ytest,xtest = dmatrices(expr, df_test, return_type='dataframe')"
      ],
      "metadata": {
        "id": "2bw2hA3Hxxsu"
      },
      "execution_count": 17,
      "outputs": []
    },
    {
      "cell_type": "code",
      "source": [
        "poisson_training_results = sm.GLM(ytrain, xtrain, family=sm.families.Poisson()).fit()"
      ],
      "metadata": {
        "id": "dts4n3H-yjZn"
      },
      "execution_count": 18,
      "outputs": []
    },
    {
      "cell_type": "code",
      "source": [
        "print(poisson_training_results.summary())"
      ],
      "metadata": {
        "id": "49fie-8UynGL"
      },
      "execution_count": null,
      "outputs": []
    },
    {
      "cell_type": "code",
      "source": [
        "poisson_predictions = poisson_training_results.get_prediction(xtest)\n",
        "predictions_summary_frame = poisson_predictions.summary_frame()\n",
        "print(predictions_summary_frame)"
      ],
      "metadata": {
        "id": "vIbTHCYDyw0D"
      },
      "execution_count": null,
      "outputs": []
    }
  ]
}