{
  "nbformat": 4,
  "nbformat_minor": 0,
  "metadata": {
    "colab": {
      "provenance": [],
      "authorship_tag": "ABX9TyNYF6hdAsCfrobcYxZdS0Ie",
      "include_colab_link": true
    },
    "kernelspec": {
      "name": "python3",
      "display_name": "Python 3"
    },
    "language_info": {
      "name": "python"
    }
  },
  "cells": [
    {
      "cell_type": "markdown",
      "metadata": {
        "id": "view-in-github",
        "colab_type": "text"
      },
      "source": [
        "<a href=\"https://colab.research.google.com/github/Dr-Carlos-Villasenor/PatternRecognition/blob/main/PR06_01_SVM.ipynb\" target=\"_parent\"><img src=\"https://colab.research.google.com/assets/colab-badge.svg\" alt=\"Open In Colab\"/></a>"
      ]
    },
    {
      "cell_type": "markdown",
      "source": [
        "# Reconocimeinto de Patrones\n",
        "## Dr. Carlos Vilaseñor\n",
        "## Máquina de soporte vectorial"
      ],
      "metadata": {
        "id": "nc3DVTYeefig"
      }
    },
    {
      "cell_type": "markdown",
      "source": [
        "1. Intalaremos primeramente una biblioteca de programación cuadrática"
      ],
      "metadata": {
        "id": "73V9EYSWezw1"
      }
    },
    {
      "cell_type": "code",
      "source": [
        "!pip install cvxopt"
      ],
      "metadata": {
        "id": "fXaDvPhZeyp7"
      },
      "execution_count": null,
      "outputs": []
    },
    {
      "cell_type": "markdown",
      "source": [
        "2. Importamos la paquetería necesaria"
      ],
      "metadata": {
        "id": "8Ur3N-NQfDxE"
      }
    },
    {
      "cell_type": "code",
      "execution_count": null,
      "metadata": {
        "id": "BqBndn9eeZY4"
      },
      "outputs": [],
      "source": [
        "import cvxopt\n",
        "import numpy as np\n",
        "import matplotlib.pyplot as plt"
      ]
    },
    {
      "cell_type": "markdown",
      "source": [
        "3. Creamos nuestra clase SVM"
      ],
      "metadata": {
        "id": "jbc56m0bfDNj"
      }
    },
    {
      "cell_type": "code",
      "source": [
        "class SVM():\n",
        "\n",
        "    def __init__(self, kernel='linear', C=0.001, gamma=0.001, degree=3):\n",
        "\n",
        "        # Parametros de funciones kernel\n",
        "        self.C = float(C)\n",
        "        self.gamma = float(gamma)\n",
        "        self.d = int(degree)\n",
        "\n",
        "        if kernel == 'linear':\n",
        "            self.kernel = self.linear\n",
        "        elif kernel == 'polynomial':\n",
        "            self.kernel = self.polynomial\n",
        "        elif kernel == 'gaussian':\n",
        "            self.kernel = self.gaussian\n",
        "        else:\n",
        "            raise NameError('Kernel no reconocido')\n",
        "\n",
        "    # Funciones Kernel\n",
        "    def linear(self, x1, x2):\n",
        "        return np.dot(x1, x2)\n",
        "\n",
        "    def polynomial(self, x1, x2):\n",
        "        return (np.dot(x1, x2) + 1) ** self.d\n",
        "\n",
        "    def gaussian(self, x1, x2):\n",
        "        return np.exp(-self.gamma * np.linalg.norm(x1 - x2) ** 2)\n",
        "\n",
        "    # Algoritmo de entrenamiento\n",
        "    def fit(self, X, y):\n",
        "        n_samples, n_features = X.shape\n",
        "\n",
        "        # Matriz de Gram\n",
        "        K = np.zeros((n_samples, n_samples))\n",
        "        for i in range(n_samples):\n",
        "            for j in range(n_samples):\n",
        "                K[i,j] = self.kernel(X[i], X[j])\n",
        "\n",
        "\n",
        "        # Resolver problema con cvxopt --------------------------------\n",
        "        P = cvxopt.matrix(np.outer(y, y) * K)\n",
        "        q = cvxopt.matrix(np.ones(n_samples) * -1)\n",
        "        A = cvxopt.matrix(y, (1, n_samples))\n",
        "        b = cvxopt.matrix(0.0)\n",
        "\n",
        "        if self.C == 0:\n",
        "            G = cvxopt.matrix(np.identity(n_samples) * -1)\n",
        "            h = cvxopt.matrix(np.zeros(n_samples))\n",
        "        else:\n",
        "            tmp1 = np.identity(n_samples) * -1\n",
        "            tmp2 = np.identity(n_samples)\n",
        "            G = cvxopt.matrix(np.vstack((tmp1, tmp2)))\n",
        "            tmp1 = np.zeros(n_samples)\n",
        "            tmp2 = np.ones(n_samples) * self.C\n",
        "            h = cvxopt.matrix(np.hstack((tmp1, tmp2)))\n",
        "\n",
        "        cvxopt.solvers.options['show_progress'] = False\n",
        "        solution = cvxopt.solvers.qp(P, q, G, h, A, b)\n",
        "        # -----------------------------------------------------------\n",
        "\n",
        "        # Extraer multiplicadores de lagrange\n",
        "        lamb = np.ravel(solution['x'])\n",
        "\n",
        "        # Detectar vectores soporte\n",
        "        mask = lamb > 1e-5\n",
        "        ind = np.arange(len(lamb))[mask]\n",
        "        self.lamb = lamb[mask]\n",
        "\n",
        "        # Extraer vectores soporte\n",
        "        self.sv = X[mask]\n",
        "        self.sv_y = y[mask]\n",
        "\n",
        "        # Calcular sesgo b\n",
        "        self.b = 0\n",
        "        for i in range(len(self.lamb)):\n",
        "            self.b += self.sv_y[i]\n",
        "            self.b -= np.sum(self.lamb * self.sv_y * K[ind[i], mask])\n",
        "        self.b = self.b / len(self.lamb)\n",
        "\n",
        "\n",
        "    def project(self, X):\n",
        "        y_predict = np.zeros(len(X))\n",
        "        for i in range(len(X)):\n",
        "            s = 0\n",
        "            for a, sv_y, sv in zip(self.lamb, self.sv_y, self.sv):\n",
        "                s += a * sv_y * self.kernel(X[i], sv)\n",
        "            y_predict[i] = s\n",
        "        return y_predict + self.b\n",
        "\n",
        "    def predict(self, X):\n",
        "        return np.sign(self.project(X))"
      ],
      "metadata": {
        "id": "bMpkTQBPfPlO"
      },
      "execution_count": null,
      "outputs": []
    },
    {
      "cell_type": "markdown",
      "source": [
        "4. Les dejo esta función de ayuda para dibujar"
      ],
      "metadata": {
        "id": "VH0AVJIVfad0"
      }
    },
    {
      "cell_type": "code",
      "source": [
        "def plot_svm(x, y, model):\n",
        "\n",
        "    plt.figure(figsize=(10,10))\n",
        "\n",
        "    # Dibujar datos de cada clase:\n",
        "    plt.plot(x[y == 1, 0], x[y == 1, 1],'bo', markersize=9)\n",
        "    plt.plot(x[y == -1, 0], x[y == -1, 1], 'ro',markersize=9)\n",
        "\n",
        "    # Calcular limites\n",
        "    xmin, xmax = x[:,0].min()-0.5, x[:,0].max()+0.5\n",
        "    ymin, ymax = x[:,1].min()-0.5, x[:,1].max()+0.5\n",
        "\n",
        "    # Dibujar superficie de decisión y margenes\n",
        "    xx, yy = np.meshgrid(np.linspace(xmin, xmax, 100),\n",
        "                         np.linspace(ymin, ymax, 100))\n",
        "    data = np.array([xx.ravel(), yy.ravel()]).T\n",
        "    zz = model.project(data).reshape(xx.shape)\n",
        "    plt.contour(xx, yy, zz, [0.0], colors='k', linewidths=2)\n",
        "    plt.contour(xx, yy, zz, [-1.0, 1.0], colors='grey',\n",
        "                linestyles='--', linewidths=2)\n",
        "    plt.contourf(xx, yy, zz, [min(zz.ravel()), 0.0, max(zz.ravel())],alpha=0.8,\n",
        "                 cmap=plt.cm.RdBu )\n",
        "\n",
        "    # Dibujar vectores soporte\n",
        "    plt.scatter(model.sv[:, 0], model.sv[:, 1], s=200, color=\"gold\")\n",
        "\n",
        "    # Detallar figura\n",
        "    plt.xlabel(r'$x_1$', fontsize=20)\n",
        "    plt.ylabel(r'$x_2$', fontsize=20)\n",
        "    plt.title('Support Vector Machine', fontsize=20)\n",
        "    #plt.title(r'$Gamma =${0:3.3f}, $C=${1:3.3f}'.format(model.gamma, model.C), fontsize=15);\n",
        "    plt.xlim([xmin,xmax])\n",
        "    plt.ylim([ymin,ymax])\n",
        "    plt.grid()\n",
        "    plt.show()"
      ],
      "metadata": {
        "id": "mccv59sGfZlt"
      },
      "execution_count": null,
      "outputs": []
    },
    {
      "cell_type": "markdown",
      "source": [
        "5. Corre solo uno de los siguientes bloques"
      ],
      "metadata": {
        "id": "3Vdd8H2Bfk6e"
      }
    },
    {
      "cell_type": "code",
      "source": [
        "# Problema 1\n",
        "np.random.seed(24)\n",
        "mean1 = np.array([0, 2])\n",
        "mean2 = np.array([2, 0])\n",
        "cov = np.array([[1.5, 1], [1, 1.5]])\n",
        "X1 = np.random.multivariate_normal(mean1, cov, 100)\n",
        "X2 = np.random.multivariate_normal(mean2, cov, 100)\n",
        "x = np.vstack((X1, X2))\n",
        "y = np.hstack((np.ones(len(X1)), np.ones(len(X1))*-1))"
      ],
      "metadata": {
        "id": "xdGIBvCNfonU"
      },
      "execution_count": null,
      "outputs": []
    },
    {
      "cell_type": "code",
      "source": [
        "from sklearn.datasets import make_moons\n",
        "x, y = make_moons(200, noise=0.2)\n",
        "y = np.asanyarray(y, dtype=np.float64)\n",
        "y += (y==0) * - 1.0"
      ],
      "metadata": {
        "id": "Ta8wEXRCfpbB"
      },
      "execution_count": null,
      "outputs": []
    },
    {
      "cell_type": "markdown",
      "source": [
        "6. Crea, entrena y visualiza la SVM"
      ],
      "metadata": {
        "id": "6NnxYSMzftVW"
      }
    },
    {
      "cell_type": "code",
      "source": [
        "model = SVM(kernel='gaussian', C=0, gamma=0.001)\n",
        "model.fit(x, y)\n",
        "plot_svm(x, y, model)"
      ],
      "metadata": {
        "id": "Dxqi6Q-Of0PV"
      },
      "execution_count": null,
      "outputs": []
    },
    {
      "cell_type": "markdown",
      "source": [
        "7.  Por último les dejo una imagen que calcule con diferentes valores de C y gamma\n",
        "\n",
        "\n",
        "1.   [Problema linealmente separable con ruido](https://github.com/Dr-Carlos-Villasenor/PatternRecognition/blob/main/Dataset/Gamma_vs_C_Lineal_con%20_ruido.jpg)\n",
        "2.   [Problema de las lunas](https://github.com/Dr-Carlos-Villasenor/PatternRecognition/blob/main/Dataset/Gamma_vs_C_Lunas.jpg)\n",
        "\n",
        "\n"
      ],
      "metadata": {
        "id": "XBu0CKFtgMsP"
      }
    }
  ]
}