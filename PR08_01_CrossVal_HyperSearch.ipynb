{
  "nbformat": 4,
  "nbformat_minor": 0,
  "metadata": {
    "colab": {
      "provenance": [],
      "authorship_tag": "ABX9TyPE2a4+UAbSI3taoMnYsdU1",
      "include_colab_link": true
    },
    "kernelspec": {
      "name": "python3",
      "display_name": "Python 3"
    },
    "language_info": {
      "name": "python"
    }
  },
  "cells": [
    {
      "cell_type": "markdown",
      "metadata": {
        "id": "view-in-github",
        "colab_type": "text"
      },
      "source": [
        "<a href=\"https://colab.research.google.com/github/Dr-Carlos-Villasenor/PatternRecognition/blob/main/PR08_01_CrossVal_HyperSearch.ipynb\" target=\"_parent\"><img src=\"https://colab.research.google.com/assets/colab-badge.svg\" alt=\"Open In Colab\"/></a>"
      ]
    },
    {
      "cell_type": "markdown",
      "source": [
        "# Reconocimeinto de Patrones\n",
        "## Dr. Carlos Vilaseñor\n",
        "## Validación cruzada y búsqueda de hiperparámetros\n",
        "\n"
      ],
      "metadata": {
        "id": "mAvFm5jSTmBJ"
      }
    },
    {
      "cell_type": "markdown",
      "source": [
        "1. Importamos las bibliotecas necesarias"
      ],
      "metadata": {
        "id": "qMF9MDnkYbT4"
      }
    },
    {
      "cell_type": "code",
      "source": [
        "import numpy as np\n",
        "import pandas as pd\n",
        "\n",
        "from sklearn import tree\n",
        "from sklearn.model_selection import cross_val_score\n",
        "from sklearn.model_selection import KFold, StratifiedKFold\n",
        "from sklearn.model_selection import GridSearchCV, RandomizedSearchCV\n",
        "from sklearn.model_selection import train_test_split"
      ],
      "metadata": {
        "id": "ORcykQntYa5F"
      },
      "execution_count": 1,
      "outputs": []
    },
    {
      "cell_type": "markdown",
      "source": [
        "2. Cargamos el conjunto de datos"
      ],
      "metadata": {
        "id": "zLW9AHg4a6aZ"
      }
    },
    {
      "cell_type": "code",
      "source": [
        "!wget https://raw.githubusercontent.com/Dr-Carlos-Villasenor/PatternRecognition/main/Dataset/loan_prediction.csv"
      ],
      "metadata": {
        "id": "TGrwTT6PbG5g"
      },
      "execution_count": null,
      "outputs": []
    },
    {
      "cell_type": "code",
      "source": [
        "df = pd.read_csv('loan_prediction.csv')"
      ],
      "metadata": {
        "id": "6WJHRWnKbBGf"
      },
      "execution_count": 3,
      "outputs": []
    },
    {
      "cell_type": "code",
      "source": [
        "df.head()"
      ],
      "metadata": {
        "id": "siJrmXsjbCkQ"
      },
      "execution_count": null,
      "outputs": []
    },
    {
      "cell_type": "markdown",
      "source": [
        "3. Seleccionamos las variables y particionamos"
      ],
      "metadata": {
        "id": "fyNlng5SbUjq"
      }
    },
    {
      "cell_type": "code",
      "source": [
        "x = np.asanyarray(df.iloc[:,0:-1])\n",
        "y = np.asanyarray(df.iloc[:,-1])\n",
        "xtrain, xtest, ytrain, ytest = train_test_split(x, y, test_size=0.25, random_state=0)"
      ],
      "metadata": {
        "id": "_9GbM9qTbRN1"
      },
      "execution_count": 5,
      "outputs": []
    },
    {
      "cell_type": "code",
      "source": [
        "print('x:', x.shape, 'y:',y.shape)\n",
        "print('xtrain:', xtrain.shape, 'ytrain:',ytrain.shape)\n",
        "print('xtest:', xtest.shape, 'ytest:',ytest.shape)"
      ],
      "metadata": {
        "id": "IDTN8lvIc0eh"
      },
      "execution_count": null,
      "outputs": []
    },
    {
      "cell_type": "markdown",
      "source": [
        "4. Creamos las particiones de validación cruzada usando Kfold"
      ],
      "metadata": {
        "id": "xtH88z1edVO9"
      }
    },
    {
      "cell_type": "code",
      "source": [
        "#from sklearn.model_selection import KFold\n",
        "kf = KFold(n_splits=5)\n",
        "\n",
        "train_scores = []\n",
        "dev_scores = []\n",
        "\n",
        "for train_index, test_index in kf.split(xtrain):\n",
        "  train, dev = xtrain[train_index], xtrain[test_index]\n",
        "  y_train, y_dev = ytrain[train_index], ytrain[test_index]\n",
        "  model = tree.DecisionTreeClassifier()\n",
        "  model.fit(train, y_train)\n",
        "  train_scores.append(model.score(train,y_train))\n",
        "  dev_scores.append(model.score(dev, y_dev))\n",
        "\n",
        "\n",
        "print(train_scores)\n",
        "print(np.mean(train_scores))\n",
        "print(dev_scores)\n",
        "print(np.mean(dev_scores))"
      ],
      "metadata": {
        "id": "uVKcO_WBcUb7"
      },
      "execution_count": null,
      "outputs": []
    },
    {
      "cell_type": "markdown",
      "source": [
        "Otra variante es la versión estratificada donde se busca un balance de las clases en cada partición"
      ],
      "metadata": {
        "id": "dNePPeN_e9Eb"
      }
    },
    {
      "cell_type": "code",
      "source": [
        "skf = StratifiedKFold(n_splits=5)\n",
        "\n",
        "for i, (train_index, test_index) in enumerate(skf.split(xtrain, ytrain)):\n",
        "  print(f\"Fold {i}:\")\n",
        "  print(f\"  Train: index={train_index}\")\n",
        "  print(f\"  Test:  index={test_index}\")"
      ],
      "metadata": {
        "id": "n4ZX3Z_8fFeq"
      },
      "execution_count": null,
      "outputs": []
    },
    {
      "cell_type": "markdown",
      "source": [
        "4. Entrenar usando validación cruzada"
      ],
      "metadata": {
        "id": "AeA47DxgbaYv"
      }
    },
    {
      "cell_type": "code",
      "source": [
        "model = tree.DecisionTreeClassifier()\n",
        "scores = cross_val_score(model, xtrain, ytrain, cv=5, scoring='f1_macro')\n",
        "print(scores)"
      ],
      "metadata": {
        "id": "Dv8Y9Tdxbj1O"
      },
      "execution_count": null,
      "outputs": []
    },
    {
      "cell_type": "markdown",
      "source": [
        "5. Calculamos la media como metrica de desempeño final"
      ],
      "metadata": {
        "id": "j-f4shtlbmgT"
      }
    },
    {
      "cell_type": "code",
      "source": [
        "scores.mean()"
      ],
      "metadata": {
        "id": "BryacTubbxTG",
        "outputId": "7a95f20d-8d38-47df-92d3-51b6ec152d50",
        "colab": {
          "base_uri": "https://localhost:8080/"
        }
      },
      "execution_count": 10,
      "outputs": [
        {
          "output_type": "execute_result",
          "data": {
            "text/plain": [
              "0.6206294454799657"
            ]
          },
          "metadata": {},
          "execution_count": 10
        }
      ]
    },
    {
      "cell_type": "markdown",
      "source": [
        "6. Para la búsqueda de hiperparámetros creamos el siguiente diccionario"
      ],
      "metadata": {
        "id": "7hQSuAbldcre"
      }
    },
    {
      "cell_type": "code",
      "source": [
        "parameters = {'max_depth':[1,2,3,4,5],\n",
        "              'min_samples_leaf':[1,2,3,4,5],\n",
        "              'min_samples_split':[2,3,4,5],\n",
        "              'criterion' : ['gini','entropy']}"
      ],
      "metadata": {
        "id": "JuyAhH0FdmdY"
      },
      "execution_count": 11,
      "outputs": []
    },
    {
      "cell_type": "markdown",
      "source": [
        "7. Hacemos una búsquada usando gridsearch"
      ],
      "metadata": {
        "id": "8FIbqsHAdp2h"
      }
    },
    {
      "cell_type": "code",
      "source": [
        "model = tree.DecisionTreeClassifier()\n",
        "#search_obj = GridSearchCV(model, parameters, cv=5, scoring='f1_macro')\n",
        "search_obj = RandomizedSearchCV(model, parameters, n_iter=10, cv=5, scoring='f1_macro')\n",
        "fit_obj = search_obj.fit(xtrain, ytrain)\n",
        "print(fit_obj.cv_results_['mean_test_score'])"
      ],
      "metadata": {
        "id": "OA6yBSM6dpBb"
      },
      "execution_count": null,
      "outputs": []
    },
    {
      "cell_type": "markdown",
      "source": [
        "8. Imprimimos el mejor modelo"
      ],
      "metadata": {
        "id": "5-ztIhYEd_6P"
      }
    },
    {
      "cell_type": "code",
      "source": [
        "best_model = fit_obj.best_estimator_\n",
        "print(best_model)"
      ],
      "metadata": {
        "id": "26O7FG-kd-wQ"
      },
      "execution_count": null,
      "outputs": []
    },
    {
      "cell_type": "markdown",
      "source": [
        "9. Reentrenamos el mejor modelo con todos los datos del entrenamiento"
      ],
      "metadata": {
        "id": "hlZ8asPXeFJi"
      }
    },
    {
      "cell_type": "code",
      "source": [
        "best_model.fit(xtrain, ytrain)\n",
        "# Make predictions using the new model.\n",
        "print('Train: ', best_model.score(xtrain, ytrain))\n",
        "print('Test: ', best_model.score(xtest, ytest))"
      ],
      "metadata": {
        "id": "Drlxvf28ePEG"
      },
      "execution_count": null,
      "outputs": []
    }
  ]
}