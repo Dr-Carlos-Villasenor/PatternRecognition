{
  "nbformat": 4,
  "nbformat_minor": 0,
  "metadata": {
    "colab": {
      "provenance": [],
      "authorship_tag": "ABX9TyMdwkoHPpPkWujzibWKGtxu",
      "include_colab_link": true
    },
    "kernelspec": {
      "name": "python3",
      "display_name": "Python 3"
    }
  },
  "cells": [
    {
      "cell_type": "markdown",
      "metadata": {
        "id": "view-in-github",
        "colab_type": "text"
      },
      "source": [
        "<a href=\"https://colab.research.google.com/github/Dr-Carlos-Villasenor/PatternRecognition/blob/main/PR09_1_Reduc_Dimensionalidad.ipynb\" target=\"_parent\"><img src=\"https://colab.research.google.com/assets/colab-badge.svg\" alt=\"Open In Colab\"/></a>"
      ]
    },
    {
      "cell_type": "markdown",
      "metadata": {
        "id": "9FicWaXvDZ-w"
      },
      "source": [
        "#Reconocimiento de Patrones\n",
        "##Dr. Carlos Villaseñor\n",
        "##Reducción de la dimensionalidad"
      ]
    },
    {
      "cell_type": "markdown",
      "source": [
        "# Preparar datos"
      ],
      "metadata": {
        "id": "tTZryWt8GHYI"
      }
    },
    {
      "cell_type": "markdown",
      "metadata": {
        "id": "Hyg7jM6MDzF2"
      },
      "source": [
        "Primeramente importaremos unos paquetes"
      ]
    },
    {
      "cell_type": "code",
      "source": [
        "import pandas as pd\n",
        "import numpy as np\n",
        "import matplotlib.pyplot as plt"
      ],
      "metadata": {
        "id": "q2b6gnNUFnEL"
      },
      "execution_count": 36,
      "outputs": []
    },
    {
      "cell_type": "markdown",
      "metadata": {
        "id": "LflocjNTD5qs"
      },
      "source": [
        "Leemos los datos\n"
      ]
    },
    {
      "cell_type": "code",
      "metadata": {
        "id": "GmnzVFKHEbET"
      },
      "source": [
        "from sklearn.datasets import fetch_openml\n",
        "x, y = fetch_openml('mnist_784', version=1, return_X_y=True)"
      ],
      "execution_count": null,
      "outputs": []
    },
    {
      "cell_type": "markdown",
      "source": [
        "Para no tomar todos los datos vamos a usar los primeros 5000"
      ],
      "metadata": {
        "id": "_f87eUePGB3h"
      }
    },
    {
      "cell_type": "code",
      "metadata": {
        "id": "qj9w8ezDJDuc"
      },
      "source": [
        "n_samples = 5000\n",
        "x=np.array(x.iloc[:n_samples,:])\n",
        "y=np.array(y[:n_samples].ravel(),dtype=np.int)\n",
        "print(x.shape, y.shape)"
      ],
      "execution_count": null,
      "outputs": []
    },
    {
      "cell_type": "code",
      "metadata": {
        "id": "EDy2YvmWF6X8"
      },
      "source": [
        "# Dibujar un ejemplo de manera aleatoria\n",
        "sample = np.random.randint(x.shape[0])\n",
        "plt.imshow(x[sample].reshape((28,28)), cmap=plt.cm.gray)\n",
        "plt.title('Target: %s'%y[sample])\n",
        "plt.show()"
      ],
      "execution_count": null,
      "outputs": []
    },
    {
      "cell_type": "markdown",
      "metadata": {
        "id": "WqANA5EgF9Ja"
      },
      "source": [
        "## Clasificación de digitos con PCA y SVM"
      ]
    },
    {
      "cell_type": "code",
      "metadata": {
        "id": "ONWFyipnGHWb"
      },
      "source": [
        "from sklearn.model_selection import train_test_split\n",
        "from sklearn.pipeline import Pipeline\n",
        "from sklearn.preprocessing import StandardScaler\n",
        "from sklearn.decomposition import PCA\n",
        "from sklearn import svm\n",
        "from sklearn.metrics import classification_report, confusion_matrix, ConfusionMatrixDisplay"
      ],
      "execution_count": 51,
      "outputs": []
    },
    {
      "cell_type": "code",
      "metadata": {
        "id": "IDhpmF_fGQ5H"
      },
      "source": [
        "# Separar conjuntos de entrenamiento y prueba\n",
        "xtrain, xtest, ytrain, ytest = train_test_split(x, y, test_size=0.1)"
      ],
      "execution_count": 44,
      "outputs": []
    },
    {
      "cell_type": "code",
      "metadata": {
        "id": "OLOfP4q1GT8I"
      },
      "source": [
        " # Instanciar modelo\n",
        "model = Pipeline([('scaler', StandardScaler()),\n",
        "                  ('PCA', PCA(n_components=50)),\n",
        "                  ('SVM', svm.SVC(gamma=0.0001))])"
      ],
      "execution_count": 45,
      "outputs": []
    },
    {
      "cell_type": "code",
      "metadata": {
        "id": "p_wUxWDqGb3H"
      },
      "source": [
        " # Entrenar modelo\n",
        "model.fit(xtrain, ytrain)"
      ],
      "execution_count": null,
      "outputs": []
    },
    {
      "cell_type": "code",
      "metadata": {
        "id": "w-D1XNaDGe0D"
      },
      "source": [
        "# Aplicar metrica al modelo\n",
        "print('Train: ', model.score(xtrain, ytrain))\n",
        "print('Test: ', model.score(xtest, ytest))"
      ],
      "execution_count": null,
      "outputs": []
    },
    {
      "cell_type": "code",
      "metadata": {
        "id": "mVRnjOxeGopP"
      },
      "source": [
        "# Hacer predicciones del test\n",
        "ypred = model.predict(xtest)"
      ],
      "execution_count": 53,
      "outputs": []
    },
    {
      "cell_type": "code",
      "metadata": {
        "id": "WzcwnQPhGpbU"
      },
      "source": [
        "print('Classification report: \\n', classification_report(ytest, ypred))"
      ],
      "execution_count": null,
      "outputs": []
    },
    {
      "cell_type": "code",
      "metadata": {
        "id": "VN4-alT4GsPF",
        "colab": {
          "base_uri": "https://localhost:8080/",
          "height": 228
        },
        "outputId": "2477ecbd-1276-48ba-c638-c918b90e1b8b"
      },
      "source": [
        "cm = confusion_matrix(ytest, ypred, labels=model.classes_)\n",
        "disp = ConfusionMatrixDisplay(confusion_matrix=cm,\n",
        "                            display_labels=model.classes_)\n",
        "disp.plot()"
      ],
      "execution_count": 69,
      "outputs": [
        {
          "output_type": "error",
          "ename": "AttributeError",
          "evalue": "ignored",
          "traceback": [
            "\u001b[0;31m---------------------------------------------------------------------------\u001b[0m",
            "\u001b[0;31mAttributeError\u001b[0m                            Traceback (most recent call last)",
            "\u001b[0;32m<ipython-input-69-6fd2ca47c44e>\u001b[0m in \u001b[0;36m<cell line: 1>\u001b[0;34m()\u001b[0m\n\u001b[0;32m----> 1\u001b[0;31m \u001b[0mcm\u001b[0m \u001b[0;34m=\u001b[0m \u001b[0mconfusion_matrix\u001b[0m\u001b[0;34m(\u001b[0m\u001b[0mytest\u001b[0m\u001b[0;34m,\u001b[0m \u001b[0mypred\u001b[0m\u001b[0;34m,\u001b[0m \u001b[0mlabels\u001b[0m\u001b[0;34m=\u001b[0m\u001b[0mmodel\u001b[0m\u001b[0;34m.\u001b[0m\u001b[0mclasses_\u001b[0m\u001b[0;34m)\u001b[0m\u001b[0;34m\u001b[0m\u001b[0;34m\u001b[0m\u001b[0m\n\u001b[0m\u001b[1;32m      2\u001b[0m disp = ConfusionMatrixDisplay(confusion_matrix=cm,\n\u001b[1;32m      3\u001b[0m                             display_labels=model.classes_)\n\u001b[1;32m      4\u001b[0m \u001b[0mdisp\u001b[0m\u001b[0;34m.\u001b[0m\u001b[0mplot\u001b[0m\u001b[0;34m(\u001b[0m\u001b[0;34m)\u001b[0m\u001b[0;34m\u001b[0m\u001b[0;34m\u001b[0m\u001b[0m\n",
            "\u001b[0;31mAttributeError\u001b[0m: 'TSNE' object has no attribute 'classes_'"
          ]
        }
      ]
    },
    {
      "cell_type": "code",
      "metadata": {
        "id": "R6c9HKciG4wY"
      },
      "source": [
        "# Dibujar una predicción aleatoria\n",
        "sample = np.random.randint(xtest.shape[0])\n",
        "plt.imshow(xtest[sample].reshape((28,28)), cmap=plt.cm.gray)\n",
        "plt.title('Prediction: %i' % ypred[sample])\n",
        "plt.show()"
      ],
      "execution_count": null,
      "outputs": []
    },
    {
      "cell_type": "markdown",
      "metadata": {
        "id": "1mlNjUyNG7eB"
      },
      "source": [
        "## Guardar Modelo"
      ]
    },
    {
      "cell_type": "code",
      "metadata": {
        "id": "zRIlYMKdG9Je",
        "colab": {
          "base_uri": "https://localhost:8080/"
        },
        "outputId": "fb95e528-755a-4fab-8a22-b54566d57de2"
      },
      "source": [
        "# Guardar modelo\n",
        "from joblib import dump\n",
        "dump(model, 'mnist_classifier.joblib')"
      ],
      "execution_count": 62,
      "outputs": [
        {
          "output_type": "execute_result",
          "data": {
            "text/plain": [
              "['mnist_classifier.joblib']"
            ]
          },
          "metadata": {},
          "execution_count": 62
        }
      ]
    },
    {
      "cell_type": "code",
      "metadata": {
        "id": "cOwZHI4_ReWX"
      },
      "source": [
        "from joblib import load\n",
        "model2 = load('mnist_classifier.joblib')"
      ],
      "execution_count": 63,
      "outputs": []
    },
    {
      "cell_type": "code",
      "metadata": {
        "id": "jvLqSY-JR7Iu",
        "colab": {
          "base_uri": "https://localhost:8080/",
          "height": 452
        },
        "outputId": "92610904-3978-4d73-f6d9-5d2ba4f5ae25"
      },
      "source": [
        "# Dibujar una predicción aleatoria\n",
        "sample = np.random.randint(xtest.shape[0])\n",
        "plt.imshow(xtest[sample].reshape((28,28)), cmap=plt.cm.gray)\n",
        "ypred = model2.predict(xtest[sample].reshape(1,-1))\n",
        "plt.title('Prediction: %i' % ypred)\n",
        "plt.show()"
      ],
      "execution_count": 64,
      "outputs": [
        {
          "output_type": "display_data",
          "data": {
            "text/plain": [
              "<Figure size 640x480 with 1 Axes>"
            ],
            "image/png": "[encoded data removed]"
          },
          "metadata": {}
        }
      ]
    },
    {
      "cell_type": "markdown",
      "metadata": {
        "id": "nvbJyikjDrq6"
      },
      "source": [
        "## Reducción de la dimensionalidad con t-SNE"
      ]
    },
    {
      "cell_type": "code",
      "metadata": {
        "id": "AaN2sxlwDYzk"
      },
      "source": [
        "from sklearn.manifold import TSNE"
      ],
      "execution_count": 65,
      "outputs": []
    },
    {
      "cell_type": "code",
      "metadata": {
        "id": "WBdJNhBCFpD_"
      },
      "source": [
        " model = TSNE(n_components=2, n_iter=2000, n_jobs=-1)"
      ],
      "execution_count": 66,
      "outputs": []
    },
    {
      "cell_type": "code",
      "metadata": {
        "id": "SyUftezJFumA"
      },
      "source": [
        "x_2d = model.fit_transform(x)\n",
        "x_2d.shape"
      ],
      "execution_count": null,
      "outputs": []
    },
    {
      "cell_type": "code",
      "metadata": {
        "id": "MUPG_760Fw3F"
      },
      "source": [
        "plt.scatter(x_2d[:,0],x_2d[:,1], c=y, cmap=plt.cm.tab10)"
      ],
      "execution_count": null,
      "outputs": []
    }
  ]
}