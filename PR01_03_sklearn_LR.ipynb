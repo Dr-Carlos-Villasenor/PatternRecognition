{
  "cells": [
    {
      "cell_type": "markdown",
      "metadata": {
        "id": "view-in-github",
        "colab_type": "text"
      },
      "source": [
        "<a href=\"https://colab.research.google.com/github/Dr-Carlos-Villasenor/PatternRecognition/blob/main/PR01_03_sklearn_LR.ipynb\" target=\"_parent\"><img src=\"https://colab.research.google.com/assets/colab-badge.svg\" alt=\"Open In Colab\"/></a>"
      ]
    },
    {
      "cell_type": "markdown",
      "metadata": {
        "id": "G3hLH_xA-3Xv"
      },
      "source": [
        "\n",
        "#Reconocimeinto de Patrones\n",
        "##Dr. Carlos Vilaseñor\n",
        "##Regresión lineal con scikit-learn\n",
        "\n",
        "*scikit-learn* es una biblioteca de Machine Learning muy popular en estos días, implementa los modelos y algoritmos más populares en el estado del arte de manera eficiente. A continuación se desarrolla un ejemplo de regresión lineal simple.\n",
        "\n",
        "Primeramente se importan las paqueterias:"
      ]
    },
    {
      "cell_type": "code",
      "execution_count": null,
      "metadata": {
        "id": "dNaEmHKp-3X5"
      },
      "outputs": [],
      "source": [
        "import pandas as pd\n",
        "import numpy as np\n",
        "import matplotlib.pyplot as plt\n",
        "from sklearn import linear_model"
      ]
    },
    {
      "cell_type": "markdown",
      "metadata": {
        "id": "M0Ph2x6n-3X-"
      },
      "source": [
        "Ahora se tiene que leer el conjunto de datos por medio de pandas"
      ]
    },
    {
      "cell_type": "code",
      "execution_count": null,
      "metadata": {
        "id": "jqSisApU-3YA"
      },
      "outputs": [],
      "source": [
        "!wget 'https://raw.githubusercontent.com/Dr-Carlos-Villasenor/PatternRecognition/main/Dataset/countries.csv'\n",
        "data = pd.read_csv('countries.csv')\n",
        "print(data.head())"
      ]
    },
    {
      "cell_type": "markdown",
      "metadata": {
        "id": "b45tvxP--3YC"
      },
      "source": [
        "Recortamos los valores de Mexico y mostramos un gráfico del año contra la esperanza de vida"
      ]
    },
    {
      "cell_type": "code",
      "execution_count": null,
      "metadata": {
        "id": "5WxpRZ-0-3YD"
      },
      "outputs": [],
      "source": [
        "data_mex = data[data.country == 'Mexico']\n",
        "print(data_mex)\n",
        "data_mex.plot.scatter(x='year',y='lifeExp')"
      ]
    },
    {
      "cell_type": "markdown",
      "metadata": {
        "id": "NI6b9Mmc-3YE"
      },
      "source": [
        "Para este ejemplo la variable 'year' será nuestra variable independiente y la variable 'lifeExp' sera nuestra variable dependiente."
      ]
    },
    {
      "cell_type": "code",
      "execution_count": null,
      "metadata": {
        "id": "i2zCzsUq-3YG"
      },
      "outputs": [],
      "source": [
        "x = np.asarray(data_mex[['year']])\n",
        "y = np.asarray(data_mex[['lifeExp']])"
      ]
    },
    {
      "cell_type": "code",
      "execution_count": null,
      "metadata": {
        "id": "92Y9lirQ-3YI"
      },
      "outputs": [],
      "source": [
        "model = linear_model.LinearRegression()\n",
        "model.fit(x,y)\n",
        "y_pred = model.predict(x)\n",
        "plt.scatter(x,y)\n",
        "plt.plot(x,y_pred,'--r')"
      ]
    },
    {
      "cell_type": "markdown",
      "metadata": {
        "id": "u5_k5nkk-3YK"
      },
      "source": [
        "Ya que tenemos el modelo ajustado podemor hacer predicciones (extrapolaciones o interpolaciones)"
      ]
    },
    {
      "cell_type": "code",
      "execution_count": null,
      "metadata": {
        "id": "5vma2QGU-3YM"
      },
      "outputs": [],
      "source": [
        "model.predict([[2022]])"
      ]
    },
    {
      "cell_type": "markdown",
      "metadata": {
        "id": "9zoyKZ11-3YN"
      },
      "source": [
        "### Métricas de regresión\n",
        "Pero, ¿Cómo podemos determinar si el modelo que tenemos se ajusta bien a los datos o no?.\n",
        "\n",
        "Se puede, por ejemplo, determinar el error entre los datos esperados y los predichos de la siguiente manera:"
      ]
    },
    {
      "cell_type": "code",
      "execution_count": null,
      "metadata": {
        "id": "nRDv2Yez-3YN"
      },
      "outputs": [],
      "source": [
        "# Error en cada predicción\n",
        "y-y_pred"
      ]
    },
    {
      "cell_type": "code",
      "execution_count": null,
      "metadata": {
        "id": "esVpVHfA-3YO"
      },
      "outputs": [],
      "source": [
        "# Pero solo nos importa la magnitud de dicho error\n",
        "abs(y-y_pred)"
      ]
    },
    {
      "cell_type": "markdown",
      "metadata": {
        "id": "QS3pcg3r-3YP"
      },
      "source": [
        "#### Métricas de errores usados en Regresión\n",
        "Error Absoluto Medio (MAE de las siglas en inglés Mean Absolute Error)\n",
        "\n",
        "$$\\text{MAE}(y, \\hat{y}) = \\frac{1}{n} \\sum_{i=1}^{n} \\left| y_i - \\hat{y}_i \\right|.$$"
      ]
    },
    {
      "cell_type": "code",
      "execution_count": null,
      "metadata": {
        "id": "Jv0VXzmH-3YP"
      },
      "outputs": [],
      "source": [
        "from sklearn.metrics import mean_absolute_error\n",
        "mean_absolute_error(y,y_pred)"
      ]
    },
    {
      "cell_type": "markdown",
      "metadata": {
        "id": "91IogRX2-3YQ"
      },
      "source": [
        "Error Cuadrático Medio (MSE de las siglas en inglés Mean Squared Error)\n",
        "\n",
        "$$\\text{MSE}(y, \\hat{y}) = \\frac{1}{n} \\sum_{i=1}^{n} \\left( y_i - \\hat{y}_i \\right)^2$$"
      ]
    },
    {
      "cell_type": "code",
      "execution_count": null,
      "metadata": {
        "id": "hPRRgJ_o-3YQ"
      },
      "outputs": [],
      "source": [
        "from sklearn.metrics import mean_squared_error\n",
        "mean_squared_error(y,y_pred)"
      ]
    },
    {
      "cell_type": "markdown",
      "metadata": {
        "id": "THZXKtc0-3YR"
      },
      "source": [
        "Error Mediano Absoluto (MedAE de las siglas en inglés Median Absolute Error)\n",
        "\n",
        "$$\\text{MedAE}(y, \\hat{y}) = \\text{median}(\\mid y_1 - \\hat{y}_1 \\mid, \\ldots, \\mid y_n - \\hat{y}_n \\mid)$$"
      ]
    },
    {
      "cell_type": "code",
      "execution_count": null,
      "metadata": {
        "id": "qzhtzLgG-3YR"
      },
      "outputs": [],
      "source": [
        "from sklearn.metrics import median_absolute_error\n",
        "mean_absolute_error(y,y_pred)"
      ]
    },
    {
      "cell_type": "markdown",
      "metadata": {
        "id": "0QGbdpt4-3YS"
      },
      "source": [
        "Pese a todas estás metricas un favorito en el Aprendizaje Automático es el coheficiente $R^2$ tambien llamado Coeficiente de Determinación\n",
        "$$R^2(y, \\hat{y}) = 1 - \\frac{\\sum_{i=1}^n(y_i - \\hat{y}_i)^2}{\\sum_{i=1}^n(y_i - \\bar{y})^2}$$\n",
        "\n",
        "donde $\\bar{y} =  \\frac{1}{n} \\sum_{i=1}^n y_i$\n",
        "\n",
        "Una de las virtudes de este coeficiente es que una predicción perfecta ofrece un $R^2=1$ y un modelo que no toma en cuenta la entrada para la prediccion obtendrá un $R^2$ negativo"
      ]
    },
    {
      "cell_type": "code",
      "execution_count": null,
      "metadata": {
        "id": "8xWtJAOb-3YS"
      },
      "outputs": [],
      "source": [
        "from sklearn.metrics import r2_score\n",
        "r2_score(y, y_pred)"
      ]
    },
    {
      "cell_type": "markdown",
      "metadata": {
        "id": "IcOZgzHQ-3YT"
      },
      "source": [
        "Muy parecido al coeficiente $R^2$ es el coeficiente de de explicación de la varianza (Explained variance score), en el cual el mejor posible es 1.0 y valores menores son peores.\n",
        "\n",
        "$$\\text{EVS}(y, \\hat{y}) = 1 - \\frac{Var\\{ y - \\hat{y}\\}}{Var\\{y\\}}$$\n",
        "\n"
      ]
    },
    {
      "cell_type": "code",
      "execution_count": null,
      "metadata": {
        "id": "MaTdrcdh-3YT"
      },
      "outputs": [],
      "source": [
        "from sklearn.metrics import explained_variance_score\n",
        "explained_variance_score(y, y_pred)"
      ]
    },
    {
      "cell_type": "markdown",
      "metadata": {
        "id": "wiYTIbvx-3YY"
      },
      "source": [
        "Sin embargo, ninguna de estás metricas nos dice que tan confiable es nuestra predicción sobre datos de entrada nunca antes vistos!!! Esto lo arreglaremos la próxima sesión"
      ]
    }
  ],
  "metadata": {
    "kernelspec": {
      "display_name": "Python 3.9.12 ('base')",
      "language": "python",
      "name": "python3"
    },
    "language_info": {
      "codemirror_mode": {
        "name": "ipython",
        "version": 3
      },
      "file_extension": ".py",
      "mimetype": "text/x-python",
      "name": "python",
      "nbconvert_exporter": "python",
      "pygments_lexer": "ipython3",
      "version": "3.9.12 (main, Apr  4 2022, 05:22:27) [MSC v.1916 64 bit (AMD64)]"
    },
    "vscode": {
      "interpreter": {
        "hash": "88279d2366fe020547cde40dd65aa0e3aa662a6ec1f3ca12d88834876c85e1a6"
      }
    },
    "colab": {
      "provenance": [],
      "include_colab_link": true
    }
  },
  "nbformat": 4,
  "nbformat_minor": 0
}