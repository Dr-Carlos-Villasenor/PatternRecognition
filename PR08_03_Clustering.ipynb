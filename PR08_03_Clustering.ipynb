{
  "nbformat": 4,
  "nbformat_minor": 0,
  "metadata": {
    "colab": {
      "provenance": [],
      "authorship_tag": "ABX9TyNvJjV6R9F9G6PrFFxQae6i",
      "include_colab_link": true
    },
    "kernelspec": {
      "name": "python3",
      "display_name": "Python 3"
    },
    "language_info": {
      "name": "python"
    }
  },
  "cells": [
    {
      "cell_type": "markdown",
      "metadata": {
        "id": "view-in-github",
        "colab_type": "text"
      },
      "source": [
        "<a href=\"https://colab.research.google.com/github/Dr-Carlos-Villasenor/PatternRecognition/blob/main/PR08_03_Clustering.ipynb\" target=\"_parent\"><img src=\"https://colab.research.google.com/assets/colab-badge.svg\" alt=\"Open In Colab\"/></a>"
      ]
    },
    {
      "cell_type": "markdown",
      "source": [
        "# Reconocimeinto de Patrones\n",
        "## Dr. Carlos Vilaseñor\n",
        "## Comparación de algoritmos de agrupación\n",
        "\n"
      ],
      "metadata": {
        "id": "mAvFm5jSTmBJ"
      }
    },
    {
      "cell_type": "markdown",
      "source": [
        "1. Importamos la paquetería necesaria"
      ],
      "metadata": {
        "id": "TKpyFOpykDKo"
      }
    },
    {
      "cell_type": "code",
      "source": [
        "import numpy as np\n",
        "import matplotlib.pyplot as plt\n",
        "from sklearn import cluster, datasets, mixture, metrics\n",
        "from sklearn.preprocessing import StandardScaler"
      ],
      "metadata": {
        "id": "cKWiGAMJiKQU"
      },
      "execution_count": 1,
      "outputs": []
    },
    {
      "cell_type": "markdown",
      "source": [
        "2. Creamos varios conjuntos de datos de manera sintética"
      ],
      "metadata": {
        "id": "hVq2HazhkJlI"
      }
    },
    {
      "cell_type": "code",
      "source": [
        "## Crear datos de prueba\n",
        "np.random.seed(0)\n",
        "n_samples = 1500\n",
        "X = 6*[None]\n",
        "# Circulos concentricos\n",
        "xtemp, _ = datasets.make_circles(n_samples=n_samples, factor=.5, noise=.05)\n",
        "X[0] = StandardScaler().fit_transform(xtemp)\n",
        "\n",
        "# Lunas\n",
        "xtemp, _ = datasets.make_moons(n_samples=n_samples, noise=.05)\n",
        "X[1] = StandardScaler().fit_transform(xtemp)\n",
        "\n",
        "# Blobs\n",
        "xtemp, _ = datasets.make_blobs(n_samples=n_samples, random_state=8)\n",
        "X[2] = StandardScaler().fit_transform(xtemp)\n",
        "\n",
        "# Plano sin agrupaciones\n",
        "xtemp = np.random.rand(n_samples, 2)\n",
        "X[3] = StandardScaler().fit_transform(xtemp)\n",
        "\n",
        "# Blobs con deformación anisotropica\n",
        "xtemp, _= datasets.make_blobs(n_samples=n_samples, random_state=170)\n",
        "xtemp = np.dot(xtemp, [[0.6, -0.6], [-0.4, 0.8]])\n",
        "X[4] = StandardScaler().fit_transform(xtemp)\n",
        "\n",
        "# Blobs con varias varianzas\n",
        "xtemp, _ = datasets.make_blobs(n_samples=n_samples, cluster_std=[1.0, 2.5, 0.5], random_state=142)\n",
        "X[5] = StandardScaler().fit_transform(xtemp)\n",
        "\n",
        "# number of clusters\n",
        "classes = [2,2,3,3,3,3]"
      ],
      "metadata": {
        "id": "ATKAfuy2kHT3"
      },
      "execution_count": 2,
      "outputs": []
    },
    {
      "cell_type": "markdown",
      "source": [
        "3. Dibujamos"
      ],
      "metadata": {
        "id": "I5jI0gbdkPMi"
      }
    },
    {
      "cell_type": "code",
      "source": [
        "## Dibujar\n",
        "plt.figure(figsize=(27,9))\n",
        "for i in range(6):\n",
        "    ax = plt.subplot(2, 3, i+1)\n",
        "    ax.scatter(X[i][:,0], X[i][:,1])"
      ],
      "metadata": {
        "id": "mi8kZQCpkRLA"
      },
      "execution_count": null,
      "outputs": []
    },
    {
      "cell_type": "markdown",
      "source": [
        "# Kmeans"
      ],
      "metadata": {
        "id": "z3dSvr_ykXlQ"
      }
    },
    {
      "cell_type": "code",
      "source": [
        "y = []\n",
        "for c, x in zip(classes, X):\n",
        "    model = cluster.KMeans(n_clusters=c, n_init='auto')\n",
        "    model.fit(x)\n",
        "    if hasattr(model, 'labels_'):\n",
        "        y.append(model.labels_.astype(int))\n",
        "    else:\n",
        "        y.append(model.predict(x))\n",
        "\n",
        "fig = plt.figure(figsize=(27,9))\n",
        "fig.suptitle('Kmeans', fontsize=48)\n",
        "for i in range(6):\n",
        "    ax = plt.subplot(2, 3, i+1)\n",
        "    ax.scatter(X[i][:,0], X[i][:,1], c=y[i])"
      ],
      "metadata": {
        "id": "MQ6Lj1YakaTZ"
      },
      "execution_count": null,
      "outputs": []
    },
    {
      "cell_type": "markdown",
      "source": [
        "# BIRCH"
      ],
      "metadata": {
        "id": "TI14elrKkNxK"
      }
    },
    {
      "cell_type": "code",
      "source": [
        "y = []\n",
        "for c, x in zip(classes, X):\n",
        "    model =  cluster.Birch(n_clusters=c)\n",
        "    model.fit(x)\n",
        "    if hasattr(model, 'labels_'):\n",
        "        y.append(model.labels_.astype(int))\n",
        "    else:\n",
        "        y.append(model.predict(x))\n",
        "\n",
        "fig = plt.figure(figsize=(27,9))\n",
        "fig.suptitle('Birch', fontsize=48)\n",
        "for i in range(6):\n",
        "    ax = plt.subplot(2, 3, i+1)\n",
        "    ax.scatter(X[i][:,0], X[i][:,1], c=y[i])"
      ],
      "metadata": {
        "id": "yuLgUeWhktz6"
      },
      "execution_count": null,
      "outputs": []
    },
    {
      "cell_type": "markdown",
      "source": [
        "# Spectral clustering"
      ],
      "metadata": {
        "id": "zU9RZEtTln96"
      }
    },
    {
      "cell_type": "code",
      "source": [
        "y = []\n",
        "for c, x in zip(classes, X):\n",
        "    model = cluster.SpectralClustering(n_clusters=c,\n",
        "                                       affinity=\"nearest_neighbors\")\n",
        "    model.fit(x)\n",
        "    if hasattr(model, 'labels_'):\n",
        "        y.append(model.labels_.astype(int))\n",
        "    else:\n",
        "        y.append(model.predict(x))\n",
        "\n",
        "fig = plt.figure(figsize=(27,9))\n",
        "fig.suptitle('SpectralClustering', fontsize=48)\n",
        "for i in range(6):\n",
        "    ax = plt.subplot(2, 3, i+1)\n",
        "    ax.scatter(X[i][:,0], X[i][:,1], c=y[i])"
      ],
      "metadata": {
        "id": "BH7KuDT_lq1-"
      },
      "execution_count": null,
      "outputs": []
    },
    {
      "cell_type": "markdown",
      "source": [
        "# Gaussian Mixture"
      ],
      "metadata": {
        "id": "FRlDyXJ_l3uV"
      }
    },
    {
      "cell_type": "code",
      "source": [
        "y = []\n",
        "for c, x in zip(classes, X):\n",
        "    model =  mixture.GaussianMixture(n_components=c, covariance_type='full')\n",
        "    model.fit(x)\n",
        "    if hasattr(model, 'labels_'):\n",
        "        y.append(model.labels_.astype(np.int))\n",
        "    else:\n",
        "        y.append(model.predict(x))\n",
        "\n",
        "fig = plt.figure(figsize=(27,9))\n",
        "fig.suptitle('GaussianMixture', fontsize=48)\n",
        "for i in range(6):\n",
        "    ax = plt.subplot(2, 3, i+1)\n",
        "    ax.scatter(X[i][:,0], X[i][:,1], c=y[i])"
      ],
      "metadata": {
        "id": "PsosYK8kl775"
      },
      "execution_count": null,
      "outputs": []
    },
    {
      "cell_type": "markdown",
      "source": [
        "# DBSCAN"
      ],
      "metadata": {
        "id": "aDyqJ5qvmAg6"
      }
    },
    {
      "cell_type": "code",
      "source": [
        "y = []\n",
        "eps = [0.3, 0.3, 0.3, 0.3, 0.15, 0.18]\n",
        "for c, x, e in zip(classes, X, eps):\n",
        "    model = cluster.DBSCAN(eps=e)\n",
        "    model.fit(x)\n",
        "    if hasattr(model, 'labels_'):\n",
        "        y.append(model.labels_.astype(int))\n",
        "    else:\n",
        "        y.append(model.predict(x))\n",
        "\n",
        "fig = plt.figure(figsize=(27,9))\n",
        "fig.suptitle('DBSCAN', fontsize=48)\n",
        "for i in range(6):\n",
        "    ax = plt.subplot(2, 3, i+1)\n",
        "    ax.scatter(X[i][:,0], X[i][:,1], c=y[i])"
      ],
      "metadata": {
        "id": "zbCfLflhmCv9"
      },
      "execution_count": null,
      "outputs": []
    },
    {
      "cell_type": "markdown",
      "source": [
        "# OPTICS"
      ],
      "metadata": {
        "id": "ulvjHlj-mIDq"
      }
    },
    {
      "cell_type": "code",
      "source": [
        "y = []\n",
        "for c, x in zip(classes, X):\n",
        "    model =  cluster.OPTICS(min_samples=20, xi=0.05, min_cluster_size=0.1)\n",
        "    model.fit(x)\n",
        "    if hasattr(model, 'labels_'):\n",
        "        y.append(model.labels_.astype(int))\n",
        "    else:\n",
        "        y.append(model.predict(x))\n",
        "\n",
        "fig = plt.figure(figsize=(27,9))\n",
        "fig.suptitle('OPTICS', fontsize=48)\n",
        "for i in range(6):\n",
        "    ax = plt.subplot(2, 3, i+1)\n",
        "    ax.scatter(X[i][:,0], X[i][:,1], c=y[i])"
      ],
      "metadata": {
        "id": "FWngFkQGmJc8"
      },
      "execution_count": null,
      "outputs": []
    }
  ]
}