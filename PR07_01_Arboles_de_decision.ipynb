{
  "nbformat": 4,
  "nbformat_minor": 0,
  "metadata": {
    "colab": {
      "provenance": [],
      "authorship_tag": "ABX9TyPJUkTOkuPTmIrzWEF7nhPT",
      "include_colab_link": true
    },
    "kernelspec": {
      "name": "python3",
      "display_name": "Python 3"
    },
    "language_info": {
      "name": "python"
    }
  },
  "cells": [
    {
      "cell_type": "markdown",
      "metadata": {
        "id": "view-in-github",
        "colab_type": "text"
      },
      "source": [
        "<a href=\"https://colab.research.google.com/github/Dr-Carlos-Villasenor/PatternRecognition/blob/main/PR07_01_Arboles_de_decision.ipynb\" target=\"_parent\"><img src=\"https://colab.research.google.com/assets/colab-badge.svg\" alt=\"Open In Colab\"/></a>"
      ]
    },
    {
      "cell_type": "markdown",
      "source": [
        "# Reconocimeinto de Patrones\n",
        "## Dr. Carlos Vilaseñor\n",
        "## Árboles de decisión"
      ],
      "metadata": {
        "id": "mAvFm5jSTmBJ"
      }
    },
    {
      "cell_type": "markdown",
      "source": [
        "#Regresor"
      ],
      "metadata": {
        "id": "gq0yxzsSzN_i"
      }
    },
    {
      "cell_type": "code",
      "execution_count": 12,
      "metadata": {
        "id": "K_2nkLOdWkGD"
      },
      "outputs": [],
      "source": [
        "import numpy as np\n",
        "import numpy.random as rnd\n",
        "import matplotlib.pyplot as plt\n",
        "\n",
        "np.random.seed(42)\n",
        "m = 300\n",
        "r = 0.5\n",
        "ruido = r* np.random.randn(m, 1)\n",
        "x = 6 * np.random.rand(m, 1) - 3\n",
        "y = 0.5 * x**2 + x + 2 + ruido"
      ]
    },
    {
      "cell_type": "code",
      "source": [
        "from sklearn.model_selection import train_test_split\n",
        "xtrain, xtest, ytrain, ytest = train_test_split(x,y)"
      ],
      "metadata": {
        "id": "TEKHVSeBzaiN"
      },
      "execution_count": 13,
      "outputs": []
    },
    {
      "cell_type": "code",
      "source": [
        "from sklearn.tree import DecisionTreeRegressor\n",
        "model = DecisionTreeRegressor(max_depth=5)\n",
        "model.fit(xtrain, ytrain.ravel())\n",
        "\n",
        "print('Train: ', model.score(xtrain, ytrain.ravel()))\n",
        "print('Test: ', model.score(xtest, ytest.ravel()))\n",
        "\n",
        "x_new = np.linspace(-3, 3, 100).reshape(-1, 1)\n",
        "y_pred = model.predict(x_new)\n",
        "\n",
        "plt.plot(x_new, y_pred,'k-',  linewidth=3)\n",
        "plt.plot(xtrain, ytrain, \"b.\")\n",
        "plt.plot(xtest, ytest, \"r.\")\n",
        "plt.xlabel(\"\", fontsize=18)\n",
        "plt.ylabel(\"\", fontsize=18)\n",
        "plt.axis([-3, 3, 0, 10])\n",
        "plt.show()"
      ],
      "metadata": {
        "id": "-g-4ERLmzdVt"
      },
      "execution_count": null,
      "outputs": []
    },
    {
      "cell_type": "markdown",
      "source": [
        "# Clasificador"
      ],
      "metadata": {
        "id": "CqC8mXdFzscG"
      }
    },
    {
      "cell_type": "code",
      "source": [
        "import numpy as np\n",
        "import matplotlib.pyplot as plt\n",
        "from matplotlib.colors import ListedColormap\n",
        "from sklearn.model_selection import train_test_split\n",
        "from sklearn.preprocessing import StandardScaler\n",
        "from sklearn.datasets import make_moons, make_circles, make_classification\n",
        "from sklearn.tree import DecisionTreeClassifier"
      ],
      "metadata": {
        "id": "a721UsXazvMS"
      },
      "execution_count": 4,
      "outputs": []
    },
    {
      "cell_type": "code",
      "source": [
        "x, y = make_classification(n_features=2, n_redundant=0, n_informative=2,\n",
        "                           n_clusters_per_class=1)\n",
        "rng = np.random.RandomState(2)\n",
        "x += 1 * rng.uniform(size=x.shape)\n",
        "linearly_separable = (x, y)\n",
        "\n",
        "datasets = [make_moons(noise=0.1),\n",
        "            make_circles(noise=0.1, factor=0.5),\n",
        "            linearly_separable ]\n",
        "\n",
        "cm = plt.cm.RdBu\n",
        "cm_bright = ListedColormap(['#FF0000', '#0000FF'])"
      ],
      "metadata": {
        "id": "swdgErTRz01B"
      },
      "execution_count": 5,
      "outputs": []
    },
    {
      "cell_type": "code",
      "source": [
        "figure = plt.figure(figsize=(9, 3))\n",
        "h = .02  # step\n",
        "i = 1 # counter\n",
        "\n",
        "\n",
        "# iterate over datasets\n",
        "for ds_cnt, ds in enumerate(datasets):\n",
        "\n",
        "    x, y = ds\n",
        "    x = StandardScaler().fit_transform(x)\n",
        "    xtrain, xtest, ytrain, ytest = train_test_split(x, y)\n",
        "\n",
        "    x_min, x_max = x[:, 0].min() - .5, x[:, 0].max() + .5\n",
        "    y_min, y_max = x[:, 1].min() - .5, x[:, 1].max() + .5\n",
        "    xx, yy = np.meshgrid(np.arange(x_min, x_max, h),\n",
        "                         np.arange(y_min, y_max, h))\n",
        "\n",
        "    model = DecisionTreeClassifier(max_depth=5)\n",
        "    ax = plt.subplot(1, 3, i)\n",
        "    model.fit(xtrain, ytrain)\n",
        "    score_train = model.score(xtrain, ytrain)\n",
        "    score_test = model.score(xtest, ytest)\n",
        "\n",
        "    # Plot the decision boundary. For that, we will assign a color to each\n",
        "    # point in the mesh [x_min, x_max]x[y_min, y_max].\n",
        "    if hasattr(model, \"decision_function\"):\n",
        "        zz = model.decision_function(np.c_[xx.ravel(), yy.ravel()])\n",
        "    else:\n",
        "        zz = model.predict_proba(np.c_[xx.ravel(), yy.ravel()])[:, 1]\n",
        "\n",
        "    # Put the result into a color plot\n",
        "    zz = zz.reshape(xx.shape)\n",
        "    ax.contourf(xx, yy, zz, cmap=cm, alpha=.8)\n",
        "\n",
        "    # Plot the training points\n",
        "    ax.scatter(xtrain[:, 0], xtrain[:, 1], c=ytrain, cmap=cm_bright,\n",
        "                   edgecolors='k')\n",
        "    # Plot the testing points\n",
        "    ax.scatter(xtest[:, 0], xtest[:, 1], c=ytest, cmap=cm_bright,\n",
        "                edgecolors='k', alpha=0.6)\n",
        "\n",
        "    ax.set_xlim(xx.min(), xx.max())\n",
        "    ax.set_ylim(yy.min(), yy.max())\n",
        "    ax.set_xticks(())\n",
        "    ax.set_yticks(())\n",
        "\n",
        "    ax.text(xx.max() - .3, yy.min() + .7, '%.2f' % score_train,\n",
        "            size=15, horizontalalignment='right')\n",
        "\n",
        "    ax.text(xx.max() - .3, yy.min() + .3, '%.2f' % score_test,\n",
        "            size=15, horizontalalignment='right')\n",
        "    i += 1\n",
        "\n",
        "plt.tight_layout()\n",
        "plt.show()\n"
      ],
      "metadata": {
        "id": "lYlMM09Hz3Az"
      },
      "execution_count": null,
      "outputs": []
    }
  ]
}