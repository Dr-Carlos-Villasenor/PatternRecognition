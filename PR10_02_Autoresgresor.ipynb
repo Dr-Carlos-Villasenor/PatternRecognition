{
  "nbformat": 4,
  "nbformat_minor": 0,
  "metadata": {
    "colab": {
      "provenance": [],
      "authorship_tag": "ABX9TyOwvCgydx7cZziEY4U0vDsW",
      "include_colab_link": true
    },
    "kernelspec": {
      "name": "python3",
      "display_name": "Python 3"
    },
    "accelerator": "GPU",
    "gpuClass": "standard"
  },
  "cells": [
    {
      "cell_type": "markdown",
      "metadata": {
        "id": "view-in-github",
        "colab_type": "text"
      },
      "source": [
        "<a href=\"https://colab.research.google.com/github/Dr-Carlos-Villasenor/PatternRecognition/blob/main/PR10_02_Autoresgresor.ipynb\" target=\"_parent\"><img src=\"https://colab.research.google.com/assets/colab-badge.svg\" alt=\"Open In Colab\"/></a>"
      ]
    },
    {
      "cell_type": "markdown",
      "metadata": {
        "id": "sFv8P5j4oy_d"
      },
      "source": [
        "#Reconocimiento de Patrones\n",
        "##Dr. Carlos Villaseñor\n",
        "## Autoregresor AR(p)\n"
      ]
    },
    {
      "cell_type": "markdown",
      "source": [
        "# Carga de datos"
      ],
      "metadata": {
        "id": "EhR_HLsm6p0i"
      }
    },
    {
      "cell_type": "markdown",
      "source": [
        "Paso 1. Cargar las siguientes bibliotecas"
      ],
      "metadata": {
        "id": "iX0u9mLouoPz"
      }
    },
    {
      "cell_type": "code",
      "source": [
        "import numpy as np\n",
        "import pandas as pd\n",
        "import matplotlib.pyplot as plt\n",
        "\n",
        "from statsmodels.graphics.tsaplots import plot_acf, plot_pacf\n",
        "from statsmodels.tsa.stattools import acf, pacf"
      ],
      "metadata": {
        "id": "YcSmKCShu_R1"
      },
      "execution_count": 3,
      "outputs": []
    },
    {
      "cell_type": "markdown",
      "source": [
        "Paso 2. Cargue los datos"
      ],
      "metadata": {
        "id": "Sh4LJQjc5NfP"
      }
    },
    {
      "cell_type": "code",
      "source": [
        "!wget \"https://raw.githubusercontent.com/Dr-Carlos-Villasenor/PatternRecognition/main/Dataset/daily-min-temperatures.csv\"\n",
        "data = pd.read_csv('daily-min-temperatures.csv')\n",
        "print(data.head())"
      ],
      "metadata": {
        "id": "lkw20769vFTX"
      },
      "execution_count": null,
      "outputs": []
    },
    {
      "cell_type": "code",
      "source": [
        "x = np.asanyarray(data[['Temp']])"
      ],
      "metadata": {
        "id": "jLDcnWFY50Wk"
      },
      "execution_count": 5,
      "outputs": []
    },
    {
      "cell_type": "markdown",
      "source": [
        "# ACF y PACF"
      ],
      "metadata": {
        "id": "syY_eEsx6mX3"
      }
    },
    {
      "cell_type": "markdown",
      "source": [
        "Paso 3. Clacula las gráficas ACF y PACF"
      ],
      "metadata": {
        "id": "ukkY01Yh6wzA"
      }
    },
    {
      "cell_type": "code",
      "source": [
        "ACF = acf(x)\n",
        "plot_acf(ACF)"
      ],
      "metadata": {
        "id": "qdz3Joz5vfN-"
      },
      "execution_count": null,
      "outputs": []
    },
    {
      "cell_type": "code",
      "source": [
        "PACF = pacf(x)\n",
        "plot_pacf(PACF)"
      ],
      "metadata": {
        "id": "-07SH5y96Gk7"
      },
      "execution_count": null,
      "outputs": []
    },
    {
      "cell_type": "markdown",
      "source": [
        "# Particionar en el tiempo"
      ],
      "metadata": {
        "id": "BWT0AjTb65XG"
      }
    },
    {
      "cell_type": "code",
      "source": [
        "train_percentage=0.75\n",
        "slice_point = int(data.shape[0]*train_percentage)\n",
        "train = data.Temp[:slice_point]\n",
        "test =  data.Temp[slice_point:]\n",
        "plt.plot(np.arange(0,slice_point), train, label='Train set')\n",
        "plt.plot(np.arange(slice_point,data.shape[0]), test, label='Test set')\n",
        "plt.legend()"
      ],
      "metadata": {
        "id": "l5mwTVul7EAU"
      },
      "execution_count": null,
      "outputs": []
    },
    {
      "cell_type": "markdown",
      "source": [
        "# Tabular datos"
      ],
      "metadata": {
        "id": "9dfRX7V37pEo"
      }
    },
    {
      "cell_type": "code",
      "source": [
        "def sliding_window(train, delays=5):\n",
        "  data2 = pd.DataFrame(train)\n",
        "  for i in range(1, delays + 1):\n",
        "      data2 = pd.concat([data2, train.shift(-i)], axis=1)\n",
        "  data2 = data2[:-delays]\n",
        "  x = np.asanyarray(data2.iloc[:,0:-1])\n",
        "  y = np.asanyarray(data2.iloc[:,-1])\n",
        "  return x, y"
      ],
      "metadata": {
        "id": "1t7PuKiG7uat"
      },
      "execution_count": 15,
      "outputs": []
    },
    {
      "cell_type": "code",
      "source": [
        "from sklearn.model_selection import train_test_split\n",
        "\n",
        "delays = 5\n",
        "x, y = sliding_window(train, delays=delays)\n",
        "xtrain, xval, ytrain, yval = train_test_split(x, y)"
      ],
      "metadata": {
        "id": "chi85Ni87wmY"
      },
      "execution_count": 16,
      "outputs": []
    },
    {
      "cell_type": "markdown",
      "source": [
        "# Crear modelo lineal\n"
      ],
      "metadata": {
        "id": "Yjnyzl8q8RIk"
      }
    },
    {
      "cell_type": "code",
      "source": [
        "from sklearn.linear_model import LinearRegression\n",
        "\n",
        "model = LinearRegression()\n",
        "model.fit(xtrain, ytrain)\n",
        "\n",
        "print('Train score: ', model.score(xtrain, ytrain))\n",
        "print('Validation score: ', model.score(xval, yval))"
      ],
      "metadata": {
        "id": "263Si9t38aCq"
      },
      "execution_count": null,
      "outputs": []
    },
    {
      "cell_type": "markdown",
      "source": [
        "# Simular prediciones del sistema"
      ],
      "metadata": {
        "id": "eFiWnFlp8eit"
      }
    },
    {
      "cell_type": "code",
      "source": [
        "# Simulate prediction with pretrained model\n",
        "input = np.zeros((1,delays))\n",
        "pred = []\n",
        "for i in range(data.shape[0]):\n",
        "  pred.append(model.predict(input))\n",
        "  input[0, 0:delays-1] =  input[0, 1:delays]\n",
        "  input[0,-1] = data.Temp[i]\n",
        "\n",
        "\n",
        "# Draw all prediction and data\n",
        "plt.figure(figsize=(27,9))\n",
        "plt.plot(np.arange(0, slice_point), train, '.k', linewidth=1, label='Train set')\n",
        "plt.plot(np.arange(slice_point,data.shape[0]), test,'.b', linewidth=1, label='Test set')\n",
        "plt.plot(pred, '-r', linewidth=1, label='Prediction')\n",
        "plt.title('Temperature one-step predictor')\n",
        "plt.legend()\n",
        "\n"
      ],
      "metadata": {
        "id": "l7MlQAPF8iht"
      },
      "execution_count": null,
      "outputs": []
    },
    {
      "cell_type": "code",
      "source": [
        "xtest, ytest =sliding_window(test, delays=delays)\n",
        "print('Test score: ', model.score(x, y))"
      ],
      "metadata": {
        "id": "ZQXJvcno-Poa"
      },
      "execution_count": null,
      "outputs": []
    }
  ]
}