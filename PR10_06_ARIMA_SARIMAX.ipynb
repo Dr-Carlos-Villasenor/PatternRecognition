{
  "nbformat": 4,
  "nbformat_minor": 0,
  "metadata": {
    "colab": {
      "provenance": [],
      "authorship_tag": "ABX9TyPW+0fLZmp2fPXvUTEze67Z",
      "include_colab_link": true
    },
    "kernelspec": {
      "name": "python3",
      "display_name": "Python 3"
    },
    "accelerator": "GPU",
    "gpuClass": "standard"
  },
  "cells": [
    {
      "cell_type": "markdown",
      "metadata": {
        "id": "view-in-github",
        "colab_type": "text"
      },
      "source": [
        "<a href=\"https://colab.research.google.com/github/Dr-Carlos-Villasenor/PatternRecognition/blob/main/PR10_06_ARIMA_SARIMAX.ipynb\" target=\"_parent\"><img src=\"https://colab.research.google.com/assets/colab-badge.svg\" alt=\"Open In Colab\"/></a>"
      ]
    },
    {
      "cell_type": "markdown",
      "metadata": {
        "id": "sFv8P5j4oy_d"
      },
      "source": [
        "# Reconocimiento de Patrones\n",
        "## Dr. Carlos Villaseñor\n",
        "## ARIMA and SARIMA\n"
      ]
    },
    {
      "cell_type": "code",
      "source": [
        "from IPython.display import display\n",
        "\n",
        "import numpy as np\n",
        "import pandas as pd\n",
        "pd.set_option('display.max_rows', 15)\n",
        "pd.set_option('display.max_columns', 500)\n",
        "pd.set_option('display.width', 1000)\n",
        "\n",
        "import matplotlib.pyplot as plt\n",
        "from datetime import datetime\n",
        "from datetime import timedelta\n",
        "from pandas.plotting import register_matplotlib_converters\n",
        "\n",
        "register_matplotlib_converters()\n",
        "\n",
        "from statsmodels.tsa.seasonal import seasonal_decompose\n",
        "from statsmodels.tsa.arima.model import ARIMA\n",
        "from statsmodels.tsa.statespace.sarimax import SARIMAX\n",
        "from statsmodels.tsa.stattools import adfuller\n",
        "from statsmodels.graphics.tsaplots import plot_acf, plot_pacf\n",
        "from time import time\n",
        "import seaborn as sns\n",
        "sns.set(style=\"whitegrid\")\n",
        "\n",
        "import warnings\n",
        "warnings.filterwarnings('ignore')\n",
        "\n",
        "RANDOM_SEED = np.random.seed(0)"
      ],
      "metadata": {
        "id": "SqK4dlY4VPJr"
      },
      "execution_count": 20,
      "outputs": []
    },
    {
      "cell_type": "code",
      "source": [
        "!wget \"https://raw.githubusercontent.com/Dr-Carlos-Villasenor/PatternRecognition/main/Dataset/catfish.csv\""
      ],
      "metadata": {
        "id": "73LCDp5xVs8b"
      },
      "execution_count": null,
      "outputs": []
    },
    {
      "cell_type": "code",
      "source": [
        "def parser(s):\n",
        "    return datetime.strptime(s, '%Y-%m-%d')\n",
        "\n",
        "#read data\n",
        "catfish_sales = pd.read_csv('catfish.csv', parse_dates=[0], index_col=0, date_parser=parser)\n",
        "\n",
        "#infer the frequency of the data\n",
        "catfish_sales = catfish_sales.asfreq(pd.infer_freq(catfish_sales.index))\n",
        "\n",
        "#transform\n",
        "start_date = datetime(1996,1,1)\n",
        "end_date = datetime(2008,1,1)\n",
        "lim_catfish_sales = catfish_sales[start_date:end_date]\n",
        "\n",
        "#plot\n",
        "plt.figure(figsize=(14,4))\n",
        "plt.plot(lim_catfish_sales)\n",
        "plt.title('Catfish Sales in 1000s of Pounds', fontsize=20)\n",
        "plt.ylabel('Sales', fontsize=16)"
      ],
      "metadata": {
        "id": "SYVcm3ByVULB"
      },
      "execution_count": null,
      "outputs": []
    },
    {
      "cell_type": "code",
      "source": [
        "plt.rc('figure',figsize=(14,8))\n",
        "plt.rc('font',size=15)\n",
        "\n",
        "result = seasonal_decompose(lim_catfish_sales,model='additive')\n",
        "fig = result.plot()"
      ],
      "metadata": {
        "id": "KtjCc0cyV0U0"
      },
      "execution_count": null,
      "outputs": []
    },
    {
      "cell_type": "code",
      "source": [
        "plot_acf(lim_catfish_sales['Total'], lags=48);\n",
        "plot_pacf(lim_catfish_sales['Total'], lags=30);"
      ],
      "metadata": {
        "id": "qDVaFVGhWDOX"
      },
      "execution_count": null,
      "outputs": []
    },
    {
      "cell_type": "code",
      "source": [
        "arima = ARIMA(lim_catfish_sales['Total'], order=(12,1,1))\n",
        "predictions = arima.fit().predict()"
      ],
      "metadata": {
        "id": "fryFSq1BWOTf"
      },
      "execution_count": 25,
      "outputs": []
    },
    {
      "cell_type": "code",
      "source": [
        "plt.figure(figsize=(16,4))\n",
        "plt.plot(lim_catfish_sales, label=\"Actual\")\n",
        "plt.plot(predictions, label=\"Predicted\")\n",
        "plt.title('Catfish Sales in 1000s of Pounds', fontsize=20)\n",
        "plt.ylabel('Sales', fontsize=16)\n",
        "plt.legend()"
      ],
      "metadata": {
        "id": "7HpRLZiUWSsI"
      },
      "execution_count": null,
      "outputs": []
    },
    {
      "cell_type": "code",
      "source": [
        "sarima = SARIMAX(lim_catfish_sales['Total'],\n",
        "                order=(1,1,1),\n",
        "                seasonal_order=(1,1,0,12))\n",
        "predictions = sarima.fit().predict()"
      ],
      "metadata": {
        "id": "3bMRdh-gXBWD"
      },
      "execution_count": 27,
      "outputs": []
    },
    {
      "cell_type": "code",
      "source": [
        "plt.figure(figsize=(16,4))\n",
        "plt.plot(lim_catfish_sales, label=\"Actual\")\n",
        "plt.plot(predictions, label=\"Predicted\")\n",
        "plt.title('Catfish Sales in 1000s of Pounds', fontsize=20)\n",
        "plt.ylabel('Sales', fontsize=16)\n",
        "plt.legend()"
      ],
      "metadata": {
        "id": "fe0GYjeDXCkU"
      },
      "execution_count": null,
      "outputs": []
    }
  ]
}