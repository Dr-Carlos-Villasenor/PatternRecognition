{
  "nbformat": 4,
  "nbformat_minor": 0,
  "metadata": {
    "colab": {
      "provenance": [],
      "authorship_tag": "ABX9TyNs5P4Rge4fX8OC86TInA7/",
      "include_colab_link": true
    },
    "kernelspec": {
      "name": "python3",
      "display_name": "Python 3"
    }
  },
  "cells": [
    {
      "cell_type": "markdown",
      "metadata": {
        "id": "view-in-github",
        "colab_type": "text"
      },
      "source": [
        "<a href=\"https://colab.research.google.com/github/Dr-Carlos-Villasenor/PatternRecognition/blob/main/PR10_01_MA.ipynb\" target=\"_parent\"><img src=\"https://colab.research.google.com/assets/colab-badge.svg\" alt=\"Open In Colab\"/></a>"
      ]
    },
    {
      "cell_type": "markdown",
      "metadata": {
        "id": "tgPHJXYPa2GP"
      },
      "source": [
        "#Reconocimiento de Patrones\n",
        "##Dr. Carlos Villaseñor\n",
        "## Medias móviles"
      ]
    },
    {
      "cell_type": "markdown",
      "source": [
        "1. Importamos las paqueterìas necesarias"
      ],
      "metadata": {
        "id": "qsWQe_OQltiv"
      }
    },
    {
      "cell_type": "code",
      "source": [
        "import pandas as pd\n",
        "import numpy as np\n",
        "import matplotlib.pyplot as plt"
      ],
      "metadata": {
        "id": "Ez8hVc6Mlw2-"
      },
      "execution_count": 1,
      "outputs": []
    },
    {
      "cell_type": "markdown",
      "source": [
        "2. Cargamos los datos"
      ],
      "metadata": {
        "id": "VPbNMTuUpp0g"
      }
    },
    {
      "cell_type": "code",
      "source": [
        "!wget \"https://raw.githubusercontent.com/Dr-Carlos-Villasenor/PatternRecognition/main/Dataset/daily-min-temperatures.csv\"\n",
        "data = pd.read_csv('daily-min-temperatures.csv')\n",
        "print(data.head())"
      ],
      "metadata": {
        "id": "lhmJvSrfmakf"
      },
      "execution_count": null,
      "outputs": []
    },
    {
      "cell_type": "markdown",
      "source": [
        "3. Dibujamos la serie de tiempo"
      ],
      "metadata": {
        "id": "a4ySmjftptoI"
      }
    },
    {
      "cell_type": "code",
      "source": [
        "x = np.asanyarray(data[['Temp']])\n",
        "plt.figure(figsize=(27,3))\n",
        "plt.plot(x)"
      ],
      "metadata": {
        "id": "KtHtMj1cpBkD"
      },
      "execution_count": null,
      "outputs": []
    },
    {
      "cell_type": "markdown",
      "source": [
        "# Autocorrelación"
      ],
      "metadata": {
        "id": "A1A0xpv-pwqG"
      }
    },
    {
      "cell_type": "code",
      "source": [
        "delay = 1\n",
        "plt.scatter(x[delay:], x[:-delay])\n",
        "print(np.corrcoef(x[delay:].transpose(), x[:-delay].transpose()))"
      ],
      "metadata": {
        "id": "8IR7yFgopHSm"
      },
      "execution_count": null,
      "outputs": []
    },
    {
      "cell_type": "code",
      "source": [
        "from pandas.plotting import autocorrelation_plot\n",
        "plt.figure(figsize=(27,3))\n",
        "autocorrelation_plot(data.Temp)"
      ],
      "metadata": {
        "id": "4W30MRJ6pROc"
      },
      "execution_count": null,
      "outputs": []
    },
    {
      "cell_type": "markdown",
      "source": [
        "# MA(1)"
      ],
      "metadata": {
        "id": "w_ipzwryp15d"
      }
    },
    {
      "cell_type": "code",
      "source": [
        "x.mean()"
      ],
      "metadata": {
        "id": "wjxlDjj3qCTT"
      },
      "execution_count": null,
      "outputs": []
    },
    {
      "cell_type": "code",
      "source": [
        "epsilon = 0\n",
        "mu = 11.177\n",
        "beta = 0.85\n",
        "pred = []\n",
        "for i in range(x.shape[0]):\n",
        "  x_pred = beta * epsilon + mu\n",
        "  epsilon = x[i,0] - x_pred\n",
        "  pred.append(x_pred)\n",
        "\n",
        "plt.figure(figsize=(27,3))\n",
        "plt.plot(x)\n",
        "plt.plot(pred)"
      ],
      "metadata": {
        "id": "Z2LWAuxBpiN1"
      },
      "execution_count": null,
      "outputs": []
    }
  ]
}