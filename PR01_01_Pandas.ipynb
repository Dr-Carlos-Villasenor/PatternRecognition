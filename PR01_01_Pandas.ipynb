{
  "nbformat": 4,
  "nbformat_minor": 0,
  "metadata": {
    "colab": {
      "provenance": [],
      "authorship_tag": "ABX9TyOV79ddtnjc/GTarfr9N34w",
      "include_colab_link": true
    },
    "kernelspec": {
      "name": "python3",
      "display_name": "Python 3"
    },
    "language_info": {
      "name": "python"
    }
  },
  "cells": [
    {
      "cell_type": "markdown",
      "metadata": {
        "id": "view-in-github",
        "colab_type": "text"
      },
      "source": [
        "<a href=\"https://colab.research.google.com/github/Dr-Carlos-Villasenor/PatternRecognition/blob/main/PR01_01_Pandas.ipynb\" target=\"_parent\"><img src=\"https://colab.research.google.com/assets/colab-badge.svg\" alt=\"Open In Colab\"/></a>"
      ]
    },
    {
      "cell_type": "markdown",
      "source": [
        "# Reconocimeinto de Patrones\n",
        "## Dr. Carlos Vilaseñor\n",
        "## Biblioteca Pandas"
      ],
      "metadata": {
        "id": "zhAKXK-_wjWP"
      }
    },
    {
      "cell_type": "markdown",
      "source": [
        "La biblioteca *pandas* es una extensión de *NumPy* y *Matplotlib* útil para la manipulación y análisis de datos en *Python*."
      ],
      "metadata": {
        "id": "2cFtXrr5wwvM"
      }
    },
    {
      "cell_type": "code",
      "source": [
        "import pandas as pd\n",
        "import numpy as np"
      ],
      "metadata": {
        "id": "VYNlGLaRwi3s"
      },
      "execution_count": 1,
      "outputs": []
    },
    {
      "cell_type": "markdown",
      "source": [
        "## Objetos principales\n",
        "\n",
        "Existen dos objetos principales en la biblioteca de *pandas*, el objeto **Series** y el objeto **DataFrame**\n",
        "\n",
        "### Objeto Series\n",
        "\n",
        "El objeto Series un arreglo de *NumPy* ndarray unidimensional con etiquetas en el eje, por ejemplo:\n"
      ],
      "metadata": {
        "id": "Dp86RaEMw5h3"
      }
    },
    {
      "cell_type": "code",
      "execution_count": null,
      "metadata": {
        "id": "R5g5B1Nvvffh"
      },
      "outputs": [],
      "source": [
        "s = pd.Series([3, -5, 7, 4], index=['a', 'b', 'c', 'd'])\n",
        "print(s)\n",
        "print('acceso a elemento: ', s['a'])"
      ]
    },
    {
      "cell_type": "markdown",
      "source": [
        "### Objeto DataFrame\n",
        "\n",
        "El objeto DataFrame es el principal objeto de la biblioteca es un arreglo bidimensional de datos mezclados con encabezado (muy similar a los DataFrame del lenguaje de programación *R*), acontinuación un ejemplo:"
      ],
      "metadata": {
        "id": "hs-XxhHjw_as"
      }
    },
    {
      "cell_type": "code",
      "source": [
        "data = { 'Nombre':['Carlos', 'Julia','Fabiola', 'Ernesto'],\n",
        "           'edad':[28,25,56,21],\n",
        "        'calificación':[100,89,48,75]}\n",
        "# Es muy común llamar df a nuestro DataFrame\n",
        "df = pd.DataFrame(data)\n",
        "print(df)"
      ],
      "metadata": {
        "id": "9UR65QZoxBEX"
      },
      "execution_count": null,
      "outputs": []
    },
    {
      "cell_type": "markdown",
      "source": [
        "Para ingresar a cada dato de nuestro DataFrame, lo podemos hacer de las siguientes maneras como si fuera una matriz"
      ],
      "metadata": {
        "id": "xbKNUv7YxEoy"
      }
    },
    {
      "cell_type": "code",
      "source": [
        "print(df.iat[0,0])\n",
        "print(df.iat[1,2])\n",
        "print(df.at[2,'Nombre'])"
      ],
      "metadata": {
        "id": "6I4WIFiFxGbs"
      },
      "execution_count": null,
      "outputs": []
    },
    {
      "cell_type": "markdown",
      "source": [
        "Podemos escribir en el DataFrame con la misma indexación"
      ],
      "metadata": {
        "id": "AlfQB7-zxIxJ"
      }
    },
    {
      "cell_type": "code",
      "source": [
        "s['b'] = 5\n",
        "print('s = \\n', s)\n",
        "df.at[0,'Nombre'] = 'Charlie'\n",
        "print('df = \\n', df)"
      ],
      "metadata": {
        "id": "rW61qKfCxJhh"
      },
      "execution_count": null,
      "outputs": []
    },
    {
      "cell_type": "markdown",
      "source": [
        "Tambien podemos eliminar filas de las Series y DataFrames"
      ],
      "metadata": {
        "id": "d1yHcsfgxMub"
      }
    },
    {
      "cell_type": "code",
      "source": [
        "s.drop(['a'])\n",
        "print(s)\n",
        "df.drop('calificación', axis=1)\n",
        "print(df)\n",
        "df = df[df.Nombre != 'Charlie']\n",
        "print(df)"
      ],
      "metadata": {
        "id": "udceOqbBxNfX"
      },
      "execution_count": null,
      "outputs": []
    },
    {
      "cell_type": "markdown",
      "source": [
        "## Exploración de datos\n",
        "\n",
        "Trabajemos con un DataFrame mayor, para esto podemos leer desde un archivo *CSV*"
      ],
      "metadata": {
        "id": "kyVm-gUKxQgh"
      }
    },
    {
      "cell_type": "code",
      "source": [
        "!wget 'https://raw.githubusercontent.com/Dr-Carlos-Villasenor/PatternRecognition/main/Dataset/countries.csv'\n",
        "df = pd.read_csv('countries.csv')"
      ],
      "metadata": {
        "id": "yRULXvg5xSkg"
      },
      "execution_count": null,
      "outputs": []
    },
    {
      "cell_type": "markdown",
      "source": [
        "Cuando se sabe poco de los datos que estamos leyendo es buena costumbre hacer una exploración de los datos por ejemplo con las siguientes funciones"
      ],
      "metadata": {
        "id": "ScB6IltWxozU"
      }
    },
    {
      "cell_type": "code",
      "source": [
        "# Se imprimen los primeros cinco regristros\n",
        "df.head()"
      ],
      "metadata": {
        "id": "j-pajMSBxpe6"
      },
      "execution_count": null,
      "outputs": []
    },
    {
      "cell_type": "code",
      "source": [
        "# Se imprimen los últimos cinco registros\n",
        "df.tail()"
      ],
      "metadata": {
        "id": "zjpeHaNrxsSj"
      },
      "execution_count": null,
      "outputs": []
    },
    {
      "cell_type": "code",
      "source": [
        "# Tamaño del DataFrame\n",
        "print(df.shape)"
      ],
      "metadata": {
        "id": "zuBE1ufIxt9o"
      },
      "execution_count": null,
      "outputs": []
    },
    {
      "cell_type": "code",
      "source": [
        "# Información del DataFrame\n",
        "df.info()"
      ],
      "metadata": {
        "id": "oOHRgaoYxwQo"
      },
      "execution_count": null,
      "outputs": []
    },
    {
      "cell_type": "code",
      "source": [
        "# Mostrar columnas\n",
        "df.columns"
      ],
      "metadata": {
        "id": "Cjqs8p0PxyEj"
      },
      "execution_count": null,
      "outputs": []
    },
    {
      "cell_type": "code",
      "source": [
        "# Datos estadísticos de las variables númericas\n",
        "df.describe()"
      ],
      "metadata": {
        "id": "uCpV7q95xz0i"
      },
      "execution_count": null,
      "outputs": []
    },
    {
      "cell_type": "code",
      "source": [
        "# Crear una matrix de datos\n",
        "df.values"
      ],
      "metadata": {
        "id": "2vrH03Pkx135"
      },
      "execution_count": null,
      "outputs": []
    },
    {
      "cell_type": "code",
      "source": [
        "# Media de variables númericas\n",
        "print(df.mean())\n",
        "print(df.max())"
      ],
      "metadata": {
        "id": "UAGW98L5x353"
      },
      "execution_count": null,
      "outputs": []
    },
    {
      "cell_type": "code",
      "source": [
        "# Renombrar columnas\n",
        "df = df.rename(columns={'gdpPercap':'gdp'})\n",
        "df.head()"
      ],
      "metadata": {
        "id": "ISizyMGkyCgH"
      },
      "execution_count": null,
      "outputs": []
    },
    {
      "cell_type": "markdown",
      "source": [
        "## Selección, reemplazo, filtrado, ordenación\n",
        "\n",
        "A continuación se muestran varios metodos de selección de sub DataFrames"
      ],
      "metadata": {
        "id": "Cp3JULmTyFyF"
      }
    },
    {
      "cell_type": "code",
      "source": [
        "# Regresar una columna como Series\n",
        "s1 = df['country']\n",
        "s2 = df.country\n",
        "print(s1)\n",
        "print(s2)"
      ],
      "metadata": {
        "id": "9qAOpUkqyGnm"
      },
      "execution_count": null,
      "outputs": []
    },
    {
      "cell_type": "code",
      "source": [
        "# Regresar una columna como un DataFrame\n",
        "df2 = df[['country']]\n",
        "df2"
      ],
      "metadata": {
        "id": "VFBbB8PZyN2U"
      },
      "execution_count": null,
      "outputs": []
    },
    {
      "cell_type": "code",
      "source": [
        "# Cambiar todos los elementos con cierto valor\n",
        "df2 = df.replace(1952,'one')\n",
        "df2.head()"
      ],
      "metadata": {
        "id": "OxcDyDrDyRqj"
      },
      "execution_count": null,
      "outputs": []
    },
    {
      "cell_type": "code",
      "source": [
        "# Filtrado por columna\n",
        "df[df.country == 'Mexico']"
      ],
      "metadata": {
        "id": "4rOTL5VXyTiG"
      },
      "execution_count": null,
      "outputs": []
    },
    {
      "cell_type": "code",
      "source": [
        "# Filtrado por multiples columnas\n",
        "df[(df.country == 'Mexico')&(df.year >= 1977)&(df.lifeExp < 70)]"
      ],
      "metadata": {
        "id": "0WiI8b3kyV6C"
      },
      "execution_count": null,
      "outputs": []
    },
    {
      "cell_type": "markdown",
      "source": [
        "La siguiente notación nos da un warning ya que puede ser ambigua"
      ],
      "metadata": {
        "id": "nDsRQMS7yd_E"
      }
    },
    {
      "cell_type": "code",
      "source": [
        "#Filtrado con reindexado automático\n",
        "df_mex = df[df.country == 'Mexico'][df.year >= 1977][df.lifeExp < 70]\n",
        "df_mex"
      ],
      "metadata": {
        "id": "_DH46U78yXrc"
      },
      "execution_count": null,
      "outputs": []
    },
    {
      "cell_type": "code",
      "source": [
        "# Reindexar datos\n",
        "df_mex = df_mex.reset_index()\n",
        "df_mex = df_mex.drop('index', axis=1)\n",
        "print(df_mex)"
      ],
      "metadata": {
        "id": "-9D2KJ6fykXF"
      },
      "execution_count": null,
      "outputs": []
    },
    {
      "cell_type": "code",
      "source": [
        "# Ordenar datos por una columna\n",
        "df_mex.sort_values('gdp')"
      ],
      "metadata": {
        "id": "Jit7zC1dymou"
      },
      "execution_count": null,
      "outputs": []
    },
    {
      "cell_type": "markdown",
      "source": [
        "## Dibujar"
      ],
      "metadata": {
        "id": "UMsV0jchy3-X"
      }
    },
    {
      "cell_type": "code",
      "source": [
        "# Histograma de todas las variables númericas\n",
        "df.hist()"
      ],
      "metadata": {
        "id": "iv-3uCkHy6A5"
      },
      "execution_count": null,
      "outputs": []
    },
    {
      "cell_type": "code",
      "source": [
        "# Dibujar solamente con el nombre de las columnas\n",
        "df[df.country == 'Mexico'].plot(x='year',y='gdp')"
      ],
      "metadata": {
        "id": "64EynUIYzBHc"
      },
      "execution_count": null,
      "outputs": []
    },
    {
      "cell_type": "markdown",
      "source": [
        "En la exploración de datos es de suma importancia las graficas de disperción (scatter graphics), pandas nos permite dibujar todas las posibles graficas de dispersión e histogramas al mismo tiempo con el comando siguiente (está función es de suma importancia en la exploración de los datos):"
      ],
      "metadata": {
        "id": "c2BtXpyXzIwH"
      }
    },
    {
      "cell_type": "code",
      "source": [
        "# Matriz de dispersión\n",
        "pd.plotting.scatter_matrix(df)"
      ],
      "metadata": {
        "id": "Y_tJ64PDzJm-"
      },
      "execution_count": null,
      "outputs": []
    },
    {
      "cell_type": "code",
      "source": [
        "# Grafica de México\n",
        "pd.plotting.scatter_matrix(df[df.country == 'Mexico'])"
      ],
      "metadata": {
        "id": "1msGV5TQzP6D"
      },
      "execution_count": null,
      "outputs": []
    },
    {
      "cell_type": "markdown",
      "source": [
        "## Responder preguntas específicas"
      ],
      "metadata": {
        "id": "hiT3TnO5zVhS"
      }
    },
    {
      "cell_type": "code",
      "source": [
        "# ¿Cuantos y cuales países tienen una esperanza de vida mayor o igual a 80 en el 2002?\n",
        "paises = list(df[df.year == 2002][df.lifeExp >= 80].country)\n",
        "print('Número de paises: ', len(paises))\n",
        "print('Paises: ', paises)"
      ],
      "metadata": {
        "id": "_nnSLf4gzTaG"
      },
      "execution_count": null,
      "outputs": []
    },
    {
      "cell_type": "code",
      "source": [
        "# ¿Pais con el mayor Producto Interno Bruto?\n",
        "df[df.gdp == max(df.gdp)].country.iat[0]\n",
        "#print('El pais con mayor PIB es: ', len(paises))"
      ],
      "metadata": {
        "id": "Mc0PZ5PwzazP"
      },
      "execution_count": null,
      "outputs": []
    },
    {
      "cell_type": "code",
      "source": [
        "# ¿En qué año México sobrepaso los 70 millones de habitantes?\n",
        "year = df[df.country == 'Mexico'][df['pop'] > 70000000].sort_values('pop').year.iat[0]\n",
        "print('En el año de: ',year)"
      ],
      "metadata": {
        "id": "eEKxU81Jzded"
      },
      "execution_count": null,
      "outputs": []
    }
  ]
}