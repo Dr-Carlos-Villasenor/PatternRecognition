{
  "nbformat": 4,
  "nbformat_minor": 0,
  "metadata": {
    "colab": {
      "provenance": [],
      "authorship_tag": "ABX9TyMLi93EygB7vMUvPDZbEQCO",
      "include_colab_link": true
    },
    "kernelspec": {
      "name": "python3",
      "display_name": "Python 3"
    },
    "language_info": {
      "name": "python"
    }
  },
  "cells": [
    {
      "cell_type": "markdown",
      "metadata": {
        "id": "view-in-github",
        "colab_type": "text"
      },
      "source": [
        "<a href=\"https://colab.research.google.com/github/Dr-Carlos-Villasenor/PatternRecognition/blob/main/PR01_04_explicacion_variables.ipynb\" target=\"_parent\"><img src=\"https://colab.research.google.com/assets/colab-badge.svg\" alt=\"Open In Colab\"/></a>"
      ]
    },
    {
      "cell_type": "markdown",
      "source": [
        "# Reconocimeinto de Patrones\n",
        "## Dr. Carlos Vilaseñor\n",
        "## Explicación de variables con un modelo lineal"
      ],
      "metadata": {
        "id": "kuqe70kPBrM_"
      }
    },
    {
      "cell_type": "markdown",
      "source": [
        "Importamos la bilioteca necesaria"
      ],
      "metadata": {
        "id": "dqmY2TwfB0gW"
      }
    },
    {
      "cell_type": "code",
      "execution_count": 1,
      "metadata": {
        "id": "kT6wQKetBjpp"
      },
      "outputs": [],
      "source": [
        "import pandas as pd\n",
        "import numpy as np\n",
        "import matplotlib.pyplot as plt\n",
        "import seaborn as sns\n",
        "from sklearn.preprocessing import StandardScaler\n",
        "from sklearn.linear_model import LinearRegression"
      ]
    },
    {
      "cell_type": "markdown",
      "source": [
        "Descargamos el conjunto de datos sobre casas"
      ],
      "metadata": {
        "id": "IT4kJXwYB4-v"
      }
    },
    {
      "cell_type": "code",
      "source": [
        "!wget 'https://raw.githubusercontent.com/Dr-Carlos-Villasenor/PatternRecognition/main/Dataset/home_data.csv'"
      ],
      "metadata": {
        "id": "qbVCSjs1B7LX"
      },
      "execution_count": null,
      "outputs": []
    },
    {
      "cell_type": "markdown",
      "source": [
        "Leemos y exploramos los datos"
      ],
      "metadata": {
        "id": "48qHLnMMCNtt"
      }
    },
    {
      "cell_type": "code",
      "source": [
        "df = pd.read_csv('home_data.csv')\n",
        "df.head()"
      ],
      "metadata": {
        "id": "d0rn4WQECP79"
      },
      "execution_count": null,
      "outputs": []
    },
    {
      "cell_type": "markdown",
      "source": [
        "Veamos las variables que tenemos"
      ],
      "metadata": {
        "id": "FpZg4Y4eCX1T"
      }
    },
    {
      "cell_type": "code",
      "source": [
        "df.info()"
      ],
      "metadata": {
        "id": "iyI4PqACCb2Q"
      },
      "execution_count": null,
      "outputs": []
    },
    {
      "cell_type": "markdown",
      "source": [
        "Calculemos la matriz de correlación para ver que tanto tiene que ver una variable con otra"
      ],
      "metadata": {
        "id": "k1Avj0oIGfY-"
      }
    },
    {
      "cell_type": "code",
      "source": [
        "corr = df.corr()\n",
        "sns.heatmap(corr,xticklabels=corr.columns,\n",
        "            yticklabels=corr.columns)\n",
        "plt.show()"
      ],
      "metadata": {
        "id": "wTuzfmJXGmyZ"
      },
      "execution_count": null,
      "outputs": []
    },
    {
      "cell_type": "markdown",
      "source": [
        "Podemos ver la dispersión de cada variable por separado"
      ],
      "metadata": {
        "id": "Ftrg3s1kIc8F"
      }
    },
    {
      "cell_type": "code",
      "source": [
        "# elegimos una variable\n",
        "var = 'price'\n",
        "plt.figure()\n",
        "df[[var]].hist()\n",
        "plt.figure()\n",
        "df.boxplot(column=[var])\n"
      ],
      "metadata": {
        "id": "pLZSDm60IdYj"
      },
      "execution_count": null,
      "outputs": []
    },
    {
      "cell_type": "markdown",
      "source": [
        "Elegimos las variables de entrada y la variable de salida, vamos escalar los datos de entrada."
      ],
      "metadata": {
        "id": "v9oCOjTzCnER"
      }
    },
    {
      "cell_type": "code",
      "source": [
        "# Quitamos variables de entrada que no tiene importancia y la variable deseada\n",
        "df2 = df.drop(['id','date','price'], axis=1)\n",
        "\n",
        "# Graudamos el nombre de las variables para usarlo despues\n",
        "columns = list(df2.columns)\n",
        "\n",
        "# Casteamos a un arreglo de numpy\n",
        "x = np.asanyarray(df2)\n",
        "\n",
        "# Escalamos los datos de entrada\n",
        "x = StandardScaler().fit_transform(x)\n",
        "print('Tamaño de la entrada: ', x.shape)\n",
        "\n",
        "# Seleccionamos la variable de salida\n",
        "y = np.asanyarray(df[['price']])\n",
        "print('Tamaño de la salida: ', y.shape)"
      ],
      "metadata": {
        "id": "ZXDMJ60zDO1S"
      },
      "execution_count": null,
      "outputs": []
    },
    {
      "cell_type": "markdown",
      "source": [
        "Creamos un modelo de regresión lineal y mostramos el entrenamiento"
      ],
      "metadata": {
        "id": "hb7lCjmOEASk"
      }
    },
    {
      "cell_type": "code",
      "source": [
        "model = LinearRegression()\n",
        "model.fit(x, y)\n",
        "print('R2-score: ', model.score(x, y))"
      ],
      "metadata": {
        "id": "sD0_yWHKEACv"
      },
      "execution_count": null,
      "outputs": []
    },
    {
      "cell_type": "markdown",
      "source": [
        "Por el momento no nos importa tanto el desempeño del modelo, lo que necesitamos es entender como afectan las variables de entrada a las salida deseada. Para este fin sacaremos los parametros de la regresión lineal."
      ],
      "metadata": {
        "id": "632waIiRGbHc"
      }
    },
    {
      "cell_type": "code",
      "source": [
        "df3 = pd.DataFrame()\n",
        "coef = np.abs((model.coef_.ravel()))\n",
        "df3['coef'] = coef / np.sum(coef)\n",
        "df3['names'] = columns\n",
        "df3.sort_values(by=['coef'], ascending=True, inplace=True)\n",
        "df3.set_index('names', inplace=True)\n",
        "print(df3)\n",
        "\n",
        "df3.coef.plot(kind='barh')\n",
        "plt.xlabel('Importance')\n",
        "plt.title('Importance of variables over the price')"
      ],
      "metadata": {
        "id": "_M7UZ72fGab1"
      },
      "execution_count": null,
      "outputs": []
    }
  ]
}